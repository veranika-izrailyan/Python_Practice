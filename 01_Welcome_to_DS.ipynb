{
  "nbformat": 4,
  "nbformat_minor": 0,
  "metadata": {
    "colab": {
      "name": "01 Welcome to DS",
      "provenance": [],
      "collapsed_sections": [],
      "include_colab_link": true
    },
    "kernelspec": {
      "name": "python3",
      "display_name": "Python 3"
    }
  },
  "cells": [
    {
      "cell_type": "markdown",
      "metadata": {
        "id": "view-in-github",
        "colab_type": "text"
      },
      "source": [
        "<a href=\"https://colab.research.google.com/github/veranika-izrailyan/python_practice/blob/main/01_Welcome_to_DS.ipynb\" target=\"_parent\"><img src=\"https://colab.research.google.com/assets/colab-badge.svg\" alt=\"Open In Colab\"/></a>"
      ]
    },
    {
      "cell_type": "code",
      "metadata": {
        "id": "vNRXgTD47MO7"
      },
      "source": [
        "# LIST \n",
        "# PYTHON is PRECOMPILED C++ \n",
        "# Python cannot do anything special that C++ couldn't\n",
        "# All challenges of C++ would be inherited up to some in Python \n",
        "# THis makes Python slightly less reliable when working in severe lack of resources \n",
        "# Unexpected outputs, undefined behavior across machines\n",
        "# challenges are being overcome \n",
        "# PYTHON has a HUGE ecosystem -> ease of finding packages and solving doubts \n"
      ],
      "execution_count": null,
      "outputs": []
    },
    {
      "cell_type": "code",
      "metadata": {
        "id": "dZ-u6w5M9vHw",
        "colab": {
          "base_uri": "https://localhost:8080/"
        },
        "outputId": "15c84682-a1c5-41cf-e33e-f41a2f28a55f"
      },
      "source": [
        "#Python manipulates POINTERS \n",
        "# PROVE our point in Py, but try to implement for prod in language that you're expert at \n",
        "# Do you change a lightbulb in Hindi, Tamil or Kannada? -> Language DOESN't MATTER\n",
        "# your expertise at it, and hardware performance MATTERS \n",
        "\n",
        "# LIST \n",
        "# its a collection of pointers -> pointer is same, whether it is pointint to STRING, NUM or FLOAT\n",
        "ls = [ 'hello world', 2., 3, 42, False]\n",
        "# DATA type in other language is on the variable \n",
        "# LIST preserves the order of elements \n",
        "# LIST is indexed, [0] will give you the element by it's KEY or INDEX \n",
        "print(ls) \n",
        "# editable, insert remove edit elements "
      ],
      "execution_count": 11,
      "outputs": [
        {
          "output_type": "stream",
          "name": "stdout",
          "text": [
            "['hello world', 2.0, 3, 42, False]\n"
          ]
        }
      ]
    },
    {
      "cell_type": "code",
      "metadata": {
        "id": "izkN7pxd_XT8",
        "colab": {
          "base_uri": "https://localhost:8080/",
          "height": 235
        },
        "outputId": "ed28b3e7-106d-4686-ca90-02198c9e1bfa"
      },
      "source": [
        "# read only list -> TUPLE \n",
        "tp = ('hello world', 2., 3, 42, False)\n",
        "print(tp)\n",
        "print(tp[0])\n",
        "# ORdered, Indexed but cannot be edited\n",
        "del tp[0] # should throw an error "
      ],
      "execution_count": 12,
      "outputs": [
        {
          "output_type": "stream",
          "name": "stdout",
          "text": [
            "('hello world', 2.0, 3, 42, False)\n",
            "hello world\n"
          ]
        },
        {
          "output_type": "error",
          "ename": "TypeError",
          "evalue": "ignored",
          "traceback": [
            "\u001b[0;31m---------------------------------------------------------------------------\u001b[0m",
            "\u001b[0;31mTypeError\u001b[0m                                 Traceback (most recent call last)",
            "\u001b[0;32m<ipython-input-12-252fc033b9ba>\u001b[0m in \u001b[0;36m<module>\u001b[0;34m()\u001b[0m\n\u001b[1;32m      4\u001b[0m \u001b[0mprint\u001b[0m\u001b[0;34m(\u001b[0m\u001b[0mtp\u001b[0m\u001b[0;34m[\u001b[0m\u001b[0;36m0\u001b[0m\u001b[0;34m]\u001b[0m\u001b[0;34m)\u001b[0m\u001b[0;34m\u001b[0m\u001b[0;34m\u001b[0m\u001b[0m\n\u001b[1;32m      5\u001b[0m \u001b[0;31m# ORdered, Indexed but cannot be edited\u001b[0m\u001b[0;34m\u001b[0m\u001b[0;34m\u001b[0m\u001b[0;34m\u001b[0m\u001b[0m\n\u001b[0;32m----> 6\u001b[0;31m \u001b[0;32mdel\u001b[0m \u001b[0mtp\u001b[0m\u001b[0;34m[\u001b[0m\u001b[0;36m0\u001b[0m\u001b[0;34m]\u001b[0m \u001b[0;31m# should throw an error\u001b[0m\u001b[0;34m\u001b[0m\u001b[0;34m\u001b[0m\u001b[0m\n\u001b[0m",
            "\u001b[0;31mTypeError\u001b[0m: 'tuple' object doesn't support item deletion"
          ]
        }
      ]
    },
    {
      "cell_type": "code",
      "metadata": {
        "id": "mbAS4zYR_xYM"
      },
      "source": [
        "# DICTIONARY\n",
        "dct = {'a': [10,20,30], 'b': 42 }"
      ],
      "execution_count": 9,
      "outputs": []
    },
    {
      "cell_type": "code",
      "metadata": {
        "id": "OdikFEkcAhXd"
      },
      "source": [
        "# PANDAS -> PANEL DATAFRAMES \n",
        "# RECTANGULAR FRAME which contains data \n",
        "# ROW and COLUMN represent the GRID -> EXCEL, CSV, DBs, TABLES\n",
        "# diff columns cannot be of diff length "
      ],
      "execution_count": 2,
      "outputs": []
    },
    {
      "cell_type": "code",
      "metadata": {
        "id": "Rv-gRwjCAiIY",
        "colab": {
          "base_uri": "https://localhost:8080/"
        },
        "outputId": "97c484ef-1a20-4920-f48d-674c0754aa3b"
      },
      "source": [
        "# PANDAS -> basic file io and cleaning data \n",
        "!ls -l # linux command to list files"
      ],
      "execution_count": 10,
      "outputs": [
        {
          "output_type": "stream",
          "name": "stdout",
          "text": [
            "total 4\n",
            "drwxr-xr-x 1 root root 4096 Nov 18 14:36 sample_data\n"
          ]
        }
      ]
    },
    {
      "cell_type": "code",
      "metadata": {
        "id": "dNAkyeZzB-n8",
        "colab": {
          "base_uri": "https://localhost:8080/",
          "height": 181
        },
        "outputId": "18826272-442d-41c5-ff39-d2b5f79e7123"
      },
      "source": [
        "# EXCEL will add it's own CSV encoding and headers which we don't want\n",
        "# PASTE raw data in NOTEPAD and save as CSV \n",
        "import pandas as pd \n",
        "fl = pd.read_csv('https://raw.githubusercontent.com/a-forty-two/cylons/master/data.csv', header=0)\n",
        "# print the top of file\n",
        "fl.head()\n",
        "# fl.head(10) -> first 10 elements \n",
        "# bottom\n",
        "fl.tail() #-> bottom 5 elements \n",
        "fl.tail(3)# -> last 3 elements \n",
        "\n",
        "# ONLY LAST OUTPUT will be printed -> ANY iPython will face this Azure Notbooks, PySpark, DataBricks, Google Colab\n",
        "# FL is DataFRAME "
      ],
      "execution_count": 1,
      "outputs": [
        {
          "output_type": "execute_result",
          "data": {
            "text/html": [
              "<div>\n",
              "<style scoped>\n",
              "    .dataframe tbody tr th:only-of-type {\n",
              "        vertical-align: middle;\n",
              "    }\n",
              "\n",
              "    .dataframe tbody tr th {\n",
              "        vertical-align: top;\n",
              "    }\n",
              "\n",
              "    .dataframe thead th {\n",
              "        text-align: right;\n",
              "    }\n",
              "</style>\n",
              "<table border=\"1\" class=\"dataframe\">\n",
              "  <thead>\n",
              "    <tr style=\"text-align: right;\">\n",
              "      <th></th>\n",
              "      <th>id</th>\n",
              "      <th>diagnosis</th>\n",
              "      <th>radius_mean</th>\n",
              "      <th>texture_mean</th>\n",
              "      <th>perimeter_mean</th>\n",
              "      <th>area_mean</th>\n",
              "      <th>smoothness_mean</th>\n",
              "      <th>compactness_mean</th>\n",
              "      <th>concavity_mean</th>\n",
              "      <th>concave points_mean</th>\n",
              "      <th>symmetry_mean</th>\n",
              "      <th>fractal_dimension_mean</th>\n",
              "      <th>radius_se</th>\n",
              "      <th>texture_se</th>\n",
              "      <th>perimeter_se</th>\n",
              "      <th>area_se</th>\n",
              "      <th>smoothness_se</th>\n",
              "      <th>compactness_se</th>\n",
              "      <th>concavity_se</th>\n",
              "      <th>concave points_se</th>\n",
              "      <th>symmetry_se</th>\n",
              "      <th>fractal_dimension_se</th>\n",
              "      <th>radius_worst</th>\n",
              "      <th>texture_worst</th>\n",
              "      <th>perimeter_worst</th>\n",
              "      <th>area_worst</th>\n",
              "      <th>smoothness_worst</th>\n",
              "      <th>compactness_worst</th>\n",
              "      <th>concavity_worst</th>\n",
              "      <th>concave points_worst</th>\n",
              "      <th>symmetry_worst</th>\n",
              "      <th>fractal_dimension_worst</th>\n",
              "      <th>Unnamed: 32</th>\n",
              "    </tr>\n",
              "  </thead>\n",
              "  <tbody>\n",
              "    <tr>\n",
              "      <th>566</th>\n",
              "      <td>926954</td>\n",
              "      <td>M</td>\n",
              "      <td>16.60</td>\n",
              "      <td>28.08</td>\n",
              "      <td>108.30</td>\n",
              "      <td>858.1</td>\n",
              "      <td>0.08455</td>\n",
              "      <td>0.10230</td>\n",
              "      <td>0.09251</td>\n",
              "      <td>0.05302</td>\n",
              "      <td>0.1590</td>\n",
              "      <td>0.05648</td>\n",
              "      <td>0.4564</td>\n",
              "      <td>1.075</td>\n",
              "      <td>3.425</td>\n",
              "      <td>48.55</td>\n",
              "      <td>0.005903</td>\n",
              "      <td>0.03731</td>\n",
              "      <td>0.04730</td>\n",
              "      <td>0.01557</td>\n",
              "      <td>0.01318</td>\n",
              "      <td>0.003892</td>\n",
              "      <td>18.980</td>\n",
              "      <td>34.12</td>\n",
              "      <td>126.70</td>\n",
              "      <td>1124.0</td>\n",
              "      <td>0.11390</td>\n",
              "      <td>0.30940</td>\n",
              "      <td>0.3403</td>\n",
              "      <td>0.1418</td>\n",
              "      <td>0.2218</td>\n",
              "      <td>0.07820</td>\n",
              "      <td>NaN</td>\n",
              "    </tr>\n",
              "    <tr>\n",
              "      <th>567</th>\n",
              "      <td>927241</td>\n",
              "      <td>M</td>\n",
              "      <td>20.60</td>\n",
              "      <td>29.33</td>\n",
              "      <td>140.10</td>\n",
              "      <td>1265.0</td>\n",
              "      <td>0.11780</td>\n",
              "      <td>0.27700</td>\n",
              "      <td>0.35140</td>\n",
              "      <td>0.15200</td>\n",
              "      <td>0.2397</td>\n",
              "      <td>0.07016</td>\n",
              "      <td>0.7260</td>\n",
              "      <td>1.595</td>\n",
              "      <td>5.772</td>\n",
              "      <td>86.22</td>\n",
              "      <td>0.006522</td>\n",
              "      <td>0.06158</td>\n",
              "      <td>0.07117</td>\n",
              "      <td>0.01664</td>\n",
              "      <td>0.02324</td>\n",
              "      <td>0.006185</td>\n",
              "      <td>25.740</td>\n",
              "      <td>39.42</td>\n",
              "      <td>184.60</td>\n",
              "      <td>1821.0</td>\n",
              "      <td>0.16500</td>\n",
              "      <td>0.86810</td>\n",
              "      <td>0.9387</td>\n",
              "      <td>0.2650</td>\n",
              "      <td>0.4087</td>\n",
              "      <td>0.12400</td>\n",
              "      <td>NaN</td>\n",
              "    </tr>\n",
              "    <tr>\n",
              "      <th>568</th>\n",
              "      <td>92751</td>\n",
              "      <td>B</td>\n",
              "      <td>7.76</td>\n",
              "      <td>24.54</td>\n",
              "      <td>47.92</td>\n",
              "      <td>181.0</td>\n",
              "      <td>0.05263</td>\n",
              "      <td>0.04362</td>\n",
              "      <td>0.00000</td>\n",
              "      <td>0.00000</td>\n",
              "      <td>0.1587</td>\n",
              "      <td>0.05884</td>\n",
              "      <td>0.3857</td>\n",
              "      <td>1.428</td>\n",
              "      <td>2.548</td>\n",
              "      <td>19.15</td>\n",
              "      <td>0.007189</td>\n",
              "      <td>0.00466</td>\n",
              "      <td>0.00000</td>\n",
              "      <td>0.00000</td>\n",
              "      <td>0.02676</td>\n",
              "      <td>0.002783</td>\n",
              "      <td>9.456</td>\n",
              "      <td>30.37</td>\n",
              "      <td>59.16</td>\n",
              "      <td>268.6</td>\n",
              "      <td>0.08996</td>\n",
              "      <td>0.06444</td>\n",
              "      <td>0.0000</td>\n",
              "      <td>0.0000</td>\n",
              "      <td>0.2871</td>\n",
              "      <td>0.07039</td>\n",
              "      <td>NaN</td>\n",
              "    </tr>\n",
              "  </tbody>\n",
              "</table>\n",
              "</div>"
            ],
            "text/plain": [
              "         id diagnosis  ...  fractal_dimension_worst  Unnamed: 32\n",
              "566  926954         M  ...                  0.07820          NaN\n",
              "567  927241         M  ...                  0.12400          NaN\n",
              "568   92751         B  ...                  0.07039          NaN\n",
              "\n",
              "[3 rows x 33 columns]"
            ]
          },
          "metadata": {},
          "execution_count": 1
        }
      ]
    },
    {
      "cell_type": "code",
      "metadata": {
        "id": "HrkmkDEoD8iR",
        "colab": {
          "base_uri": "https://localhost:8080/"
        },
        "outputId": "1da354c2-f560-45e4-9417-faa1f4a49e57"
      },
      "source": [
        "# LOC and iLOC \n",
        "# LOCATION and INDEX of LOCATION \n",
        "# location works with name, index works with position (number)\n",
        "\n",
        "# [row selection, column selection]\n",
        "# This can be a range or a list -> 2nd to 3rd last element is a range,\n",
        "# but [smoothness_mean, concavity_mean] is a list\n",
        "\n",
        "print(fl.iloc[0,0]) # ELEMENT level selection \n",
        "fl.iloc[0,:] # FIRST row, ALL columns"
      ],
      "execution_count": 13,
      "outputs": [
        {
          "output_type": "stream",
          "name": "stdout",
          "text": [
            "842302\n"
          ]
        },
        {
          "output_type": "execute_result",
          "data": {
            "text/plain": [
              "id                           842302\n",
              "diagnosis                         M\n",
              "radius_mean                   17.99\n",
              "texture_mean                  10.38\n",
              "perimeter_mean                122.8\n",
              "area_mean                      1001\n",
              "smoothness_mean              0.1184\n",
              "compactness_mean             0.2776\n",
              "concavity_mean               0.3001\n",
              "concave points_mean          0.1471\n",
              "symmetry_mean                0.2419\n",
              "fractal_dimension_mean      0.07871\n",
              "radius_se                     1.095\n",
              "texture_se                   0.9053\n",
              "perimeter_se                  8.589\n",
              "area_se                       153.4\n",
              "smoothness_se              0.006399\n",
              "compactness_se              0.04904\n",
              "concavity_se                0.05373\n",
              "concave points_se           0.01587\n",
              "symmetry_se                 0.03003\n",
              "fractal_dimension_se       0.006193\n",
              "radius_worst                  25.38\n",
              "texture_worst                 17.33\n",
              "perimeter_worst               184.6\n",
              "area_worst                     2019\n",
              "smoothness_worst             0.1622\n",
              "compactness_worst            0.6656\n",
              "concavity_worst              0.7119\n",
              "concave points_worst         0.2654\n",
              "symmetry_worst               0.4601\n",
              "fractal_dimension_worst      0.1189\n",
              "Unnamed: 32                     NaN\n",
              "Name: 0, dtype: object"
            ]
          },
          "metadata": {},
          "execution_count": 13
        }
      ]
    },
    {
      "cell_type": "code",
      "metadata": {
        "id": "Gantdww5GQIC",
        "colab": {
          "base_uri": "https://localhost:8080/"
        },
        "outputId": "3a7c1fb8-2fc1-4126-a278-e5af9a69f4b2"
      },
      "source": [
        "# ITERATION is used when we need to generate Series of data\n",
        "# SIMULATION activities or when data is impossible to gather but not impossible to calculate\n",
        "# FISSURES of surface of sun -> impossible to gather \n",
        "# COST, time \n",
        "# CAN be used to handle MISSING data BUT NOT RECOMMENDED \n",
        "# FIBONACCI \n",
        "# Number -> sum of prev 2 numbers \n",
        "# -1 and +1 -> these generators generate sequences of fibonaccis \n",
        "\n",
        "#1 2 3 4 5 .... \n",
        "# __init__ <- this acts LIKE a CONSTRUCTOR \n",
        "\n",
        "class Numbers:\n",
        "  def __init__(this, x, y):\n",
        "    this.n1 = x**2\n",
        "    this.n2 = y**2\n",
        "  def x2plusy2(this):\n",
        "    finalSum = this.n1 + this.n2\n",
        "    return finalSum \n",
        "\n",
        "class natural:\n",
        "  def __iter__(this):\n",
        "    this.start = 1\n",
        "    return this # return entire initial seed object\n",
        "  def __next__(this):\n",
        "    x = this.start + 1 # calculated the next no. of series\n",
        "    this.start = x # update for next iteration \n",
        "    return x # return the propagation result only\n",
        "\n",
        "class FiboGen:\n",
        "  def __iter__(this): # SEED function, FIRST numbers to use \n",
        "    # initialize the seeds of series here\n",
        "    this.n1 = -1\n",
        "    this.n2 = 1\n",
        "    this.n3 = None\n",
        "    return this # return the seed object\n",
        "  def __next__(this): # Propagation function \n",
        "    this.n3 = this.n1 + this.n2 \n",
        "    this.n1 = this.n2\n",
        "    this.n2 = this.n3 \n",
        "    \n",
        "    \n",
        "    return this.n3 # return the next element of prop \n",
        "\n",
        "prop = FiboGen()\n",
        "pointer_to_prop = iter(prop) #an iterator object \n",
        "# iter executes the seed function, next executes the propagation function \n",
        "\n",
        "for i in range(20):\n",
        "  print(next(pointer_to_prop))\n",
        "\n",
        "# PLEASE resume by 12  \n",
        "# On mute, any questions-> please type in chat window"
      ],
      "execution_count": 14,
      "outputs": [
        {
          "output_type": "stream",
          "name": "stdout",
          "text": [
            "0\n",
            "1\n",
            "1\n",
            "2\n",
            "3\n",
            "5\n",
            "8\n",
            "13\n",
            "21\n",
            "34\n",
            "55\n",
            "89\n",
            "144\n",
            "233\n",
            "377\n",
            "610\n",
            "987\n",
            "1597\n",
            "2584\n",
            "4181\n"
          ]
        }
      ]
    },
    {
      "cell_type": "code",
      "metadata": {
        "id": "R1IZ6vZmKF_7"
      },
      "source": [
        "def sum():\n",
        "  return 0\n",
        "\n",
        "\n",
        "sum\n"
      ],
      "execution_count": null,
      "outputs": []
    },
    {
      "cell_type": "code",
      "metadata": {
        "id": "bBEjOUH9PTar"
      },
      "source": [
        ""
      ],
      "execution_count": 8,
      "outputs": []
    }
  ]
}