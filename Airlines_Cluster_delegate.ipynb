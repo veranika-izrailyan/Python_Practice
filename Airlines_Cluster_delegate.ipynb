{
  "nbformat": 4,
  "nbformat_minor": 0,
  "metadata": {
    "celltoolbar": "Slideshow",
    "kernelspec": {
      "display_name": "Python 3",
      "language": "python",
      "name": "python3"
    },
    "language_info": {
      "codemirror_mode": {
        "name": "ipython",
        "version": 3
      },
      "file_extension": ".py",
      "mimetype": "text/x-python",
      "name": "python",
      "nbconvert_exporter": "python",
      "pygments_lexer": "ipython3",
      "version": "3.7.4"
    },
    "colab": {
      "name": "Airlines-Cluster-delegate.ipynb",
      "provenance": [],
      "include_colab_link": true
    }
  },
  "cells": [
    {
      "cell_type": "markdown",
      "metadata": {
        "id": "view-in-github",
        "colab_type": "text"
      },
      "source": [
        "<a href=\"https://colab.research.google.com/github/veranika-izrailyan/python_practice/blob/main/Airlines_Cluster_delegate.ipynb\" target=\"_parent\"><img src=\"https://colab.research.google.com/assets/colab-badge.svg\" alt=\"Open In Colab\"/></a>"
      ]
    },
    {
      "cell_type": "code",
      "metadata": {
        "id": "r5f_Bl7acSB5"
      },
      "source": [
        "import pandas as pd\n",
        "import matplotlib.pyplot as plt\n",
        "from sklearn.cluster import KMeans\n",
        "from sklearn import preprocessing"
      ],
      "execution_count": 2,
      "outputs": []
    },
    {
      "cell_type": "code",
      "metadata": {
        "scrolled": true,
        "id": "6ENpgz8BcSB9"
      },
      "source": [
        "dataset1 = pd.read_csv('AirlinesCluster.csv')"
      ],
      "execution_count": 3,
      "outputs": []
    },
    {
      "cell_type": "code",
      "metadata": {
        "colab": {
          "base_uri": "https://localhost:8080/",
          "height": 363
        },
        "id": "fiwMunTydsyT",
        "outputId": "4d65c410-3b21-47f2-e278-fc76dc6f4462"
      },
      "source": [
        "dataset1.head(10)"
      ],
      "execution_count": 6,
      "outputs": [
        {
          "output_type": "execute_result",
          "data": {
            "text/html": [
              "<div>\n",
              "<style scoped>\n",
              "    .dataframe tbody tr th:only-of-type {\n",
              "        vertical-align: middle;\n",
              "    }\n",
              "\n",
              "    .dataframe tbody tr th {\n",
              "        vertical-align: top;\n",
              "    }\n",
              "\n",
              "    .dataframe thead th {\n",
              "        text-align: right;\n",
              "    }\n",
              "</style>\n",
              "<table border=\"1\" class=\"dataframe\">\n",
              "  <thead>\n",
              "    <tr style=\"text-align: right;\">\n",
              "      <th></th>\n",
              "      <th>Balance</th>\n",
              "      <th>QualMiles</th>\n",
              "      <th>BonusMiles</th>\n",
              "      <th>BonusTrans</th>\n",
              "      <th>FlightMiles</th>\n",
              "      <th>FlightTrans</th>\n",
              "      <th>DaysSinceEnroll</th>\n",
              "    </tr>\n",
              "  </thead>\n",
              "  <tbody>\n",
              "    <tr>\n",
              "      <th>0</th>\n",
              "      <td>28143</td>\n",
              "      <td>0</td>\n",
              "      <td>174</td>\n",
              "      <td>1</td>\n",
              "      <td>0</td>\n",
              "      <td>0</td>\n",
              "      <td>7000</td>\n",
              "    </tr>\n",
              "    <tr>\n",
              "      <th>1</th>\n",
              "      <td>19244</td>\n",
              "      <td>0</td>\n",
              "      <td>215</td>\n",
              "      <td>2</td>\n",
              "      <td>0</td>\n",
              "      <td>0</td>\n",
              "      <td>6968</td>\n",
              "    </tr>\n",
              "    <tr>\n",
              "      <th>2</th>\n",
              "      <td>41354</td>\n",
              "      <td>0</td>\n",
              "      <td>4123</td>\n",
              "      <td>4</td>\n",
              "      <td>0</td>\n",
              "      <td>0</td>\n",
              "      <td>7034</td>\n",
              "    </tr>\n",
              "    <tr>\n",
              "      <th>3</th>\n",
              "      <td>14776</td>\n",
              "      <td>0</td>\n",
              "      <td>500</td>\n",
              "      <td>1</td>\n",
              "      <td>0</td>\n",
              "      <td>0</td>\n",
              "      <td>6952</td>\n",
              "    </tr>\n",
              "    <tr>\n",
              "      <th>4</th>\n",
              "      <td>97752</td>\n",
              "      <td>0</td>\n",
              "      <td>43300</td>\n",
              "      <td>26</td>\n",
              "      <td>2077</td>\n",
              "      <td>4</td>\n",
              "      <td>6935</td>\n",
              "    </tr>\n",
              "    <tr>\n",
              "      <th>5</th>\n",
              "      <td>16420</td>\n",
              "      <td>0</td>\n",
              "      <td>0</td>\n",
              "      <td>0</td>\n",
              "      <td>0</td>\n",
              "      <td>0</td>\n",
              "      <td>6942</td>\n",
              "    </tr>\n",
              "    <tr>\n",
              "      <th>6</th>\n",
              "      <td>84914</td>\n",
              "      <td>0</td>\n",
              "      <td>27482</td>\n",
              "      <td>25</td>\n",
              "      <td>0</td>\n",
              "      <td>0</td>\n",
              "      <td>6994</td>\n",
              "    </tr>\n",
              "    <tr>\n",
              "      <th>7</th>\n",
              "      <td>20856</td>\n",
              "      <td>0</td>\n",
              "      <td>5250</td>\n",
              "      <td>4</td>\n",
              "      <td>250</td>\n",
              "      <td>1</td>\n",
              "      <td>6938</td>\n",
              "    </tr>\n",
              "    <tr>\n",
              "      <th>8</th>\n",
              "      <td>443003</td>\n",
              "      <td>0</td>\n",
              "      <td>1753</td>\n",
              "      <td>43</td>\n",
              "      <td>3850</td>\n",
              "      <td>12</td>\n",
              "      <td>6948</td>\n",
              "    </tr>\n",
              "    <tr>\n",
              "      <th>9</th>\n",
              "      <td>104860</td>\n",
              "      <td>0</td>\n",
              "      <td>28426</td>\n",
              "      <td>28</td>\n",
              "      <td>1150</td>\n",
              "      <td>3</td>\n",
              "      <td>6931</td>\n",
              "    </tr>\n",
              "  </tbody>\n",
              "</table>\n",
              "</div>"
            ],
            "text/plain": [
              "   Balance  QualMiles  BonusMiles  ...  FlightMiles  FlightTrans  DaysSinceEnroll\n",
              "0    28143          0         174  ...            0            0             7000\n",
              "1    19244          0         215  ...            0            0             6968\n",
              "2    41354          0        4123  ...            0            0             7034\n",
              "3    14776          0         500  ...            0            0             6952\n",
              "4    97752          0       43300  ...         2077            4             6935\n",
              "5    16420          0           0  ...            0            0             6942\n",
              "6    84914          0       27482  ...            0            0             6994\n",
              "7    20856          0        5250  ...          250            1             6938\n",
              "8   443003          0        1753  ...         3850           12             6948\n",
              "9   104860          0       28426  ...         1150            3             6931\n",
              "\n",
              "[10 rows x 7 columns]"
            ]
          },
          "metadata": {},
          "execution_count": 6
        }
      ]
    },
    {
      "cell_type": "markdown",
      "metadata": {
        "id": "JOpPpTblcSB-"
      },
      "source": [
        "### Data Understanding"
      ]
    },
    {
      "cell_type": "code",
      "metadata": {
        "colab": {
          "base_uri": "https://localhost:8080/",
          "height": 269
        },
        "id": "IC-EyGbVcSB_",
        "outputId": "b8ccc409-29cc-4091-b276-8db475d4d6df"
      },
      "source": [
        "# peeking at the dataset\n",
        "dataset1.head().T"
      ],
      "execution_count": 4,
      "outputs": [
        {
          "output_type": "execute_result",
          "data": {
            "text/html": [
              "<div>\n",
              "<style scoped>\n",
              "    .dataframe tbody tr th:only-of-type {\n",
              "        vertical-align: middle;\n",
              "    }\n",
              "\n",
              "    .dataframe tbody tr th {\n",
              "        vertical-align: top;\n",
              "    }\n",
              "\n",
              "    .dataframe thead th {\n",
              "        text-align: right;\n",
              "    }\n",
              "</style>\n",
              "<table border=\"1\" class=\"dataframe\">\n",
              "  <thead>\n",
              "    <tr style=\"text-align: right;\">\n",
              "      <th></th>\n",
              "      <th>0</th>\n",
              "      <th>1</th>\n",
              "      <th>2</th>\n",
              "      <th>3</th>\n",
              "      <th>4</th>\n",
              "    </tr>\n",
              "  </thead>\n",
              "  <tbody>\n",
              "    <tr>\n",
              "      <th>Balance</th>\n",
              "      <td>28143</td>\n",
              "      <td>19244</td>\n",
              "      <td>41354</td>\n",
              "      <td>14776</td>\n",
              "      <td>97752</td>\n",
              "    </tr>\n",
              "    <tr>\n",
              "      <th>QualMiles</th>\n",
              "      <td>0</td>\n",
              "      <td>0</td>\n",
              "      <td>0</td>\n",
              "      <td>0</td>\n",
              "      <td>0</td>\n",
              "    </tr>\n",
              "    <tr>\n",
              "      <th>BonusMiles</th>\n",
              "      <td>174</td>\n",
              "      <td>215</td>\n",
              "      <td>4123</td>\n",
              "      <td>500</td>\n",
              "      <td>43300</td>\n",
              "    </tr>\n",
              "    <tr>\n",
              "      <th>BonusTrans</th>\n",
              "      <td>1</td>\n",
              "      <td>2</td>\n",
              "      <td>4</td>\n",
              "      <td>1</td>\n",
              "      <td>26</td>\n",
              "    </tr>\n",
              "    <tr>\n",
              "      <th>FlightMiles</th>\n",
              "      <td>0</td>\n",
              "      <td>0</td>\n",
              "      <td>0</td>\n",
              "      <td>0</td>\n",
              "      <td>2077</td>\n",
              "    </tr>\n",
              "    <tr>\n",
              "      <th>FlightTrans</th>\n",
              "      <td>0</td>\n",
              "      <td>0</td>\n",
              "      <td>0</td>\n",
              "      <td>0</td>\n",
              "      <td>4</td>\n",
              "    </tr>\n",
              "    <tr>\n",
              "      <th>DaysSinceEnroll</th>\n",
              "      <td>7000</td>\n",
              "      <td>6968</td>\n",
              "      <td>7034</td>\n",
              "      <td>6952</td>\n",
              "      <td>6935</td>\n",
              "    </tr>\n",
              "  </tbody>\n",
              "</table>\n",
              "</div>"
            ],
            "text/plain": [
              "                     0      1      2      3      4\n",
              "Balance          28143  19244  41354  14776  97752\n",
              "QualMiles            0      0      0      0      0\n",
              "BonusMiles         174    215   4123    500  43300\n",
              "BonusTrans           1      2      4      1     26\n",
              "FlightMiles          0      0      0      0   2077\n",
              "FlightTrans          0      0      0      0      4\n",
              "DaysSinceEnroll   7000   6968   7034   6952   6935"
            ]
          },
          "metadata": {},
          "execution_count": 4
        }
      ]
    },
    {
      "cell_type": "markdown",
      "metadata": {
        "id": "NE4LbooZcSCA"
      },
      "source": [
        "- Balance = number of miles eligible for award travel\n",
        "- QualMiles = number of miles qualifying for TopFlight status\n",
        "- BonusMiles = number of miles earned from non-flight bonus transactions in the past 12 months\n",
        "- BonusTrans = number of non-flight bonus transactions in the past 12 months\n",
        "- FlightMiles = number of flight miles in the past 12 months\n",
        "- FlightTrans = number of flight transactions in the past 12 months\n",
        "- DaysSinceEnroll = number of days since enrolled in the frequent flyer program"
      ]
    },
    {
      "cell_type": "code",
      "metadata": {
        "scrolled": true,
        "colab": {
          "base_uri": "https://localhost:8080/",
          "height": 300
        },
        "id": "tY7pmpL0cSCA",
        "outputId": "1dabb3f4-dc4c-4c59-e5d6-34de4a4ba0ce"
      },
      "source": [
        "# Summary statistics\n",
        "dataset1.describe()"
      ],
      "execution_count": 7,
      "outputs": [
        {
          "output_type": "execute_result",
          "data": {
            "text/html": [
              "<div>\n",
              "<style scoped>\n",
              "    .dataframe tbody tr th:only-of-type {\n",
              "        vertical-align: middle;\n",
              "    }\n",
              "\n",
              "    .dataframe tbody tr th {\n",
              "        vertical-align: top;\n",
              "    }\n",
              "\n",
              "    .dataframe thead th {\n",
              "        text-align: right;\n",
              "    }\n",
              "</style>\n",
              "<table border=\"1\" class=\"dataframe\">\n",
              "  <thead>\n",
              "    <tr style=\"text-align: right;\">\n",
              "      <th></th>\n",
              "      <th>Balance</th>\n",
              "      <th>QualMiles</th>\n",
              "      <th>BonusMiles</th>\n",
              "      <th>BonusTrans</th>\n",
              "      <th>FlightMiles</th>\n",
              "      <th>FlightTrans</th>\n",
              "      <th>DaysSinceEnroll</th>\n",
              "    </tr>\n",
              "  </thead>\n",
              "  <tbody>\n",
              "    <tr>\n",
              "      <th>count</th>\n",
              "      <td>3.999000e+03</td>\n",
              "      <td>3999.000000</td>\n",
              "      <td>3999.000000</td>\n",
              "      <td>3999.00000</td>\n",
              "      <td>3999.000000</td>\n",
              "      <td>3999.000000</td>\n",
              "      <td>3999.00000</td>\n",
              "    </tr>\n",
              "    <tr>\n",
              "      <th>mean</th>\n",
              "      <td>7.360133e+04</td>\n",
              "      <td>144.114529</td>\n",
              "      <td>17144.846212</td>\n",
              "      <td>11.60190</td>\n",
              "      <td>460.055764</td>\n",
              "      <td>1.373593</td>\n",
              "      <td>4118.55939</td>\n",
              "    </tr>\n",
              "    <tr>\n",
              "      <th>std</th>\n",
              "      <td>1.007757e+05</td>\n",
              "      <td>773.663804</td>\n",
              "      <td>24150.967826</td>\n",
              "      <td>9.60381</td>\n",
              "      <td>1400.209171</td>\n",
              "      <td>3.793172</td>\n",
              "      <td>2065.13454</td>\n",
              "    </tr>\n",
              "    <tr>\n",
              "      <th>min</th>\n",
              "      <td>0.000000e+00</td>\n",
              "      <td>0.000000</td>\n",
              "      <td>0.000000</td>\n",
              "      <td>0.00000</td>\n",
              "      <td>0.000000</td>\n",
              "      <td>0.000000</td>\n",
              "      <td>2.00000</td>\n",
              "    </tr>\n",
              "    <tr>\n",
              "      <th>25%</th>\n",
              "      <td>1.852750e+04</td>\n",
              "      <td>0.000000</td>\n",
              "      <td>1250.000000</td>\n",
              "      <td>3.00000</td>\n",
              "      <td>0.000000</td>\n",
              "      <td>0.000000</td>\n",
              "      <td>2330.00000</td>\n",
              "    </tr>\n",
              "    <tr>\n",
              "      <th>50%</th>\n",
              "      <td>4.309700e+04</td>\n",
              "      <td>0.000000</td>\n",
              "      <td>7171.000000</td>\n",
              "      <td>12.00000</td>\n",
              "      <td>0.000000</td>\n",
              "      <td>0.000000</td>\n",
              "      <td>4096.00000</td>\n",
              "    </tr>\n",
              "    <tr>\n",
              "      <th>75%</th>\n",
              "      <td>9.240400e+04</td>\n",
              "      <td>0.000000</td>\n",
              "      <td>23800.500000</td>\n",
              "      <td>17.00000</td>\n",
              "      <td>311.000000</td>\n",
              "      <td>1.000000</td>\n",
              "      <td>5790.50000</td>\n",
              "    </tr>\n",
              "    <tr>\n",
              "      <th>max</th>\n",
              "      <td>1.704838e+06</td>\n",
              "      <td>11148.000000</td>\n",
              "      <td>263685.000000</td>\n",
              "      <td>86.00000</td>\n",
              "      <td>30817.000000</td>\n",
              "      <td>53.000000</td>\n",
              "      <td>8296.00000</td>\n",
              "    </tr>\n",
              "  </tbody>\n",
              "</table>\n",
              "</div>"
            ],
            "text/plain": [
              "            Balance     QualMiles  ...  FlightTrans  DaysSinceEnroll\n",
              "count  3.999000e+03   3999.000000  ...  3999.000000       3999.00000\n",
              "mean   7.360133e+04    144.114529  ...     1.373593       4118.55939\n",
              "std    1.007757e+05    773.663804  ...     3.793172       2065.13454\n",
              "min    0.000000e+00      0.000000  ...     0.000000          2.00000\n",
              "25%    1.852750e+04      0.000000  ...     0.000000       2330.00000\n",
              "50%    4.309700e+04      0.000000  ...     0.000000       4096.00000\n",
              "75%    9.240400e+04      0.000000  ...     1.000000       5790.50000\n",
              "max    1.704838e+06  11148.000000  ...    53.000000       8296.00000\n",
              "\n",
              "[8 rows x 7 columns]"
            ]
          },
          "metadata": {},
          "execution_count": 7
        }
      ]
    },
    {
      "cell_type": "markdown",
      "metadata": {
        "id": "ZD1PpejMcSCB"
      },
      "source": [
        "### Data Preparation - Feature Scaling Functions"
      ]
    },
    {
      "cell_type": "markdown",
      "metadata": {
        "id": "8VWzfktMcSCB"
      },
      "source": [
        "- MinMaxScaler\n",
        "    - Use first unless have theoretical reason to need stronger medicine.\n",
        "    - Preserves the shape of the original distribution.\n",
        "    - Doesn't reduce the importance of outliers. \n",
        "    - Least disruptive to the information in the original data. \n",
        "    - Default range for MinMaxScaler is 0 to 1. "
      ]
    },
    {
      "cell_type": "markdown",
      "metadata": {
        "id": "rDDpcn9mcSCC"
      },
      "source": [
        "- RobustScaler\n",
        "    - Use if have outliers and don't want them to have much influence. \n",
        "    - Outliers have less influence than with MinMaxScaler. \n",
        "    - Range is larger than MinMaxScaler or StandardScaler."
      ]
    },
    {
      "cell_type": "markdown",
      "metadata": {
        "id": "R3umXUr5cSCC"
      },
      "source": [
        "- StandardScaler\n",
        "    - When need to transform a feature so it is close to normally distributed.\n",
        "    - Results in a distribution with a standard deviation equal to 1 (and variance equal to 1). \n",
        "    - If you have outliers in your feature (column), normalizing your data will scale most of the data to a small interval. "
      ]
    },
    {
      "cell_type": "code",
      "metadata": {
        "id": "YoGhe6kdcSCD"
      },
      "source": [
        "#standardize the data to normal distribution\n",
        "dataset1_standardized = preprocessing.scale(dataset1)\n",
        "dataset1_standardized = pd.DataFrame(dataset1_standardized)"
      ],
      "execution_count": 8,
      "outputs": []
    },
    {
      "cell_type": "code",
      "metadata": {
        "colab": {
          "base_uri": "https://localhost:8080/",
          "height": 423
        },
        "id": "OlU-tmKEfagk",
        "outputId": "65a72764-833e-4eaa-f745-ef9c3079624c"
      },
      "source": [
        "dataset1_standardized"
      ],
      "execution_count": 9,
      "outputs": [
        {
          "output_type": "execute_result",
          "data": {
            "text/html": [
              "<div>\n",
              "<style scoped>\n",
              "    .dataframe tbody tr th:only-of-type {\n",
              "        vertical-align: middle;\n",
              "    }\n",
              "\n",
              "    .dataframe tbody tr th {\n",
              "        vertical-align: top;\n",
              "    }\n",
              "\n",
              "    .dataframe thead th {\n",
              "        text-align: right;\n",
              "    }\n",
              "</style>\n",
              "<table border=\"1\" class=\"dataframe\">\n",
              "  <thead>\n",
              "    <tr style=\"text-align: right;\">\n",
              "      <th></th>\n",
              "      <th>0</th>\n",
              "      <th>1</th>\n",
              "      <th>2</th>\n",
              "      <th>3</th>\n",
              "      <th>4</th>\n",
              "      <th>5</th>\n",
              "      <th>6</th>\n",
              "    </tr>\n",
              "  </thead>\n",
              "  <tbody>\n",
              "    <tr>\n",
              "      <th>0</th>\n",
              "      <td>-0.451141</td>\n",
              "      <td>-0.186299</td>\n",
              "      <td>-0.702786</td>\n",
              "      <td>-1.104065</td>\n",
              "      <td>-0.328603</td>\n",
              "      <td>-0.362168</td>\n",
              "      <td>1.395454</td>\n",
              "    </tr>\n",
              "    <tr>\n",
              "      <th>1</th>\n",
              "      <td>-0.539457</td>\n",
              "      <td>-0.186299</td>\n",
              "      <td>-0.701088</td>\n",
              "      <td>-0.999926</td>\n",
              "      <td>-0.328603</td>\n",
              "      <td>-0.362168</td>\n",
              "      <td>1.379957</td>\n",
              "    </tr>\n",
              "    <tr>\n",
              "      <th>2</th>\n",
              "      <td>-0.320031</td>\n",
              "      <td>-0.186299</td>\n",
              "      <td>-0.539253</td>\n",
              "      <td>-0.791649</td>\n",
              "      <td>-0.328603</td>\n",
              "      <td>-0.362168</td>\n",
              "      <td>1.411920</td>\n",
              "    </tr>\n",
              "    <tr>\n",
              "      <th>3</th>\n",
              "      <td>-0.583799</td>\n",
              "      <td>-0.186299</td>\n",
              "      <td>-0.689286</td>\n",
              "      <td>-1.104065</td>\n",
              "      <td>-0.328603</td>\n",
              "      <td>-0.362168</td>\n",
              "      <td>1.372208</td>\n",
              "    </tr>\n",
              "    <tr>\n",
              "      <th>4</th>\n",
              "      <td>0.239678</td>\n",
              "      <td>-0.186299</td>\n",
              "      <td>1.083121</td>\n",
              "      <td>1.499394</td>\n",
              "      <td>1.154932</td>\n",
              "      <td>0.692490</td>\n",
              "      <td>1.363975</td>\n",
              "    </tr>\n",
              "    <tr>\n",
              "      <th>...</th>\n",
              "      <td>...</td>\n",
              "      <td>...</td>\n",
              "      <td>...</td>\n",
              "      <td>...</td>\n",
              "      <td>...</td>\n",
              "      <td>...</td>\n",
              "      <td>...</td>\n",
              "    </tr>\n",
              "    <tr>\n",
              "      <th>3994</th>\n",
              "      <td>-0.547079</td>\n",
              "      <td>-0.186299</td>\n",
              "      <td>-0.356960</td>\n",
              "      <td>-0.791649</td>\n",
              "      <td>-0.185750</td>\n",
              "      <td>-0.098503</td>\n",
              "      <td>-1.315120</td>\n",
              "    </tr>\n",
              "    <tr>\n",
              "      <th>3995</th>\n",
              "      <td>-0.091465</td>\n",
              "      <td>-0.186299</td>\n",
              "      <td>-0.669367</td>\n",
              "      <td>-0.687511</td>\n",
              "      <td>-0.328603</td>\n",
              "      <td>-0.362168</td>\n",
              "      <td>-1.318994</td>\n",
              "    </tr>\n",
              "    <tr>\n",
              "      <th>3996</th>\n",
              "      <td>-0.000043</td>\n",
              "      <td>-0.186299</td>\n",
              "      <td>0.343804</td>\n",
              "      <td>-0.375096</td>\n",
              "      <td>-0.328603</td>\n",
              "      <td>-0.362168</td>\n",
              "      <td>-1.315604</td>\n",
              "    </tr>\n",
              "    <tr>\n",
              "      <th>3997</th>\n",
              "      <td>-0.185607</td>\n",
              "      <td>-0.186299</td>\n",
              "      <td>-0.689286</td>\n",
              "      <td>-1.104065</td>\n",
              "      <td>0.028531</td>\n",
              "      <td>-0.098503</td>\n",
              "      <td>-1.316088</td>\n",
              "    </tr>\n",
              "    <tr>\n",
              "      <th>3998</th>\n",
              "      <td>-0.700508</td>\n",
              "      <td>-0.186299</td>\n",
              "      <td>-0.709992</td>\n",
              "      <td>-1.208203</td>\n",
              "      <td>-0.328603</td>\n",
              "      <td>-0.362168</td>\n",
              "      <td>-1.317541</td>\n",
              "    </tr>\n",
              "  </tbody>\n",
              "</table>\n",
              "<p>3999 rows × 7 columns</p>\n",
              "</div>"
            ],
            "text/plain": [
              "             0         1         2         3         4         5         6\n",
              "0    -0.451141 -0.186299 -0.702786 -1.104065 -0.328603 -0.362168  1.395454\n",
              "1    -0.539457 -0.186299 -0.701088 -0.999926 -0.328603 -0.362168  1.379957\n",
              "2    -0.320031 -0.186299 -0.539253 -0.791649 -0.328603 -0.362168  1.411920\n",
              "3    -0.583799 -0.186299 -0.689286 -1.104065 -0.328603 -0.362168  1.372208\n",
              "4     0.239678 -0.186299  1.083121  1.499394  1.154932  0.692490  1.363975\n",
              "...        ...       ...       ...       ...       ...       ...       ...\n",
              "3994 -0.547079 -0.186299 -0.356960 -0.791649 -0.185750 -0.098503 -1.315120\n",
              "3995 -0.091465 -0.186299 -0.669367 -0.687511 -0.328603 -0.362168 -1.318994\n",
              "3996 -0.000043 -0.186299  0.343804 -0.375096 -0.328603 -0.362168 -1.315604\n",
              "3997 -0.185607 -0.186299 -0.689286 -1.104065  0.028531 -0.098503 -1.316088\n",
              "3998 -0.700508 -0.186299 -0.709992 -1.208203 -0.328603 -0.362168 -1.317541\n",
              "\n",
              "[3999 rows x 7 columns]"
            ]
          },
          "metadata": {},
          "execution_count": 9
        }
      ]
    },
    {
      "cell_type": "markdown",
      "metadata": {
        "id": "gH8CpgTZcSCD"
      },
      "source": [
        "### K Means Clustering"
      ]
    },
    {
      "cell_type": "code",
      "metadata": {
        "scrolled": true,
        "colab": {
          "base_uri": "https://localhost:8080/",
          "height": 237
        },
        "id": "sf1z9t3IcSCD",
        "outputId": "822e8d21-4785-4cb4-947e-5033aedc52bc"
      },
      "source": [
        "# Fitting K-Means to the dataset\n",
        "kmeans = KMeans(n_clusters = 5, init = 'k-means++', random_state = 42)\n",
        "y_kmeans = kmeans.fit_predict(dataset1_standardized)\n",
        "#beginning of  the cluster numbering with 1 instead of 0\n",
        "y_kmeans1=y_kmeans\n",
        "y_kmeans1=y_kmeans+1\n",
        "# New Dataframe called cluster\n",
        "cluster = pd.DataFrame(y_kmeans1)\n",
        "# Adding cluster to the Dataset1\n",
        "dataset1['cluster'] = cluster\n",
        "#Mean of clusters\n",
        "kmeans_mean_cluster = pd.DataFrame(round(dataset1.groupby('cluster').mean(),1))\n",
        "kmeans_mean_cluster"
      ],
      "execution_count": 10,
      "outputs": [
        {
          "output_type": "execute_result",
          "data": {
            "text/html": [
              "<div>\n",
              "<style scoped>\n",
              "    .dataframe tbody tr th:only-of-type {\n",
              "        vertical-align: middle;\n",
              "    }\n",
              "\n",
              "    .dataframe tbody tr th {\n",
              "        vertical-align: top;\n",
              "    }\n",
              "\n",
              "    .dataframe thead th {\n",
              "        text-align: right;\n",
              "    }\n",
              "</style>\n",
              "<table border=\"1\" class=\"dataframe\">\n",
              "  <thead>\n",
              "    <tr style=\"text-align: right;\">\n",
              "      <th></th>\n",
              "      <th>Balance</th>\n",
              "      <th>QualMiles</th>\n",
              "      <th>BonusMiles</th>\n",
              "      <th>BonusTrans</th>\n",
              "      <th>FlightMiles</th>\n",
              "      <th>FlightTrans</th>\n",
              "      <th>DaysSinceEnroll</th>\n",
              "    </tr>\n",
              "    <tr>\n",
              "      <th>cluster</th>\n",
              "      <th></th>\n",
              "      <th></th>\n",
              "      <th></th>\n",
              "      <th></th>\n",
              "      <th></th>\n",
              "      <th></th>\n",
              "      <th></th>\n",
              "    </tr>\n",
              "  </thead>\n",
              "  <tbody>\n",
              "    <tr>\n",
              "      <th>1</th>\n",
              "      <td>191736.3</td>\n",
              "      <td>471.6</td>\n",
              "      <td>33093.3</td>\n",
              "      <td>28.4</td>\n",
              "      <td>5763.1</td>\n",
              "      <td>16.8</td>\n",
              "      <td>4666.4</td>\n",
              "    </tr>\n",
              "    <tr>\n",
              "      <th>2</th>\n",
              "      <td>57871.4</td>\n",
              "      <td>56.3</td>\n",
              "      <td>8831.0</td>\n",
              "      <td>9.2</td>\n",
              "      <td>215.6</td>\n",
              "      <td>0.7</td>\n",
              "      <td>5825.7</td>\n",
              "    </tr>\n",
              "    <tr>\n",
              "      <th>3</th>\n",
              "      <td>38081.4</td>\n",
              "      <td>37.9</td>\n",
              "      <td>6726.5</td>\n",
              "      <td>7.6</td>\n",
              "      <td>179.4</td>\n",
              "      <td>0.6</td>\n",
              "      <td>2284.4</td>\n",
              "    </tr>\n",
              "    <tr>\n",
              "      <th>4</th>\n",
              "      <td>153250.4</td>\n",
              "      <td>76.2</td>\n",
              "      <td>51347.6</td>\n",
              "      <td>21.3</td>\n",
              "      <td>479.9</td>\n",
              "      <td>1.5</td>\n",
              "      <td>4908.8</td>\n",
              "    </tr>\n",
              "    <tr>\n",
              "      <th>5</th>\n",
              "      <td>116472.4</td>\n",
              "      <td>5636.3</td>\n",
              "      <td>19804.3</td>\n",
              "      <td>12.5</td>\n",
              "      <td>963.0</td>\n",
              "      <td>2.9</td>\n",
              "      <td>3950.6</td>\n",
              "    </tr>\n",
              "  </tbody>\n",
              "</table>\n",
              "</div>"
            ],
            "text/plain": [
              "          Balance  QualMiles  ...  FlightTrans  DaysSinceEnroll\n",
              "cluster                       ...                              \n",
              "1        191736.3      471.6  ...         16.8           4666.4\n",
              "2         57871.4       56.3  ...          0.7           5825.7\n",
              "3         38081.4       37.9  ...          0.6           2284.4\n",
              "4        153250.4       76.2  ...          1.5           4908.8\n",
              "5        116472.4     5636.3  ...          2.9           3950.6\n",
              "\n",
              "[5 rows x 7 columns]"
            ]
          },
          "metadata": {},
          "execution_count": 10
        }
      ]
    },
    {
      "cell_type": "code",
      "metadata": {
        "scrolled": true,
        "colab": {
          "base_uri": "https://localhost:8080/",
          "height": 501
        },
        "id": "piZ2RQ7ncSCE",
        "outputId": "08661beb-a889-45c9-bcf7-47fdf0227ae2"
      },
      "source": [
        "plt.figure(figsize=(10, 8))\n",
        "plt.scatter(dataset1_standardized.iloc[:,0], dataset1_standardized.iloc[:,1], c=y_kmeans.astype(float), cmap='prism')"
      ],
      "execution_count": 11,
      "outputs": [
        {
          "output_type": "execute_result",
          "data": {
            "text/plain": [
              "<matplotlib.collections.PathCollection at 0x7f355208af50>"
            ]
          },
          "metadata": {},
          "execution_count": 11
        },
        {
          "output_type": "display_data",
          "data": {
            "image/png": "[encoded data removed]",
            "text/plain": [
              "<Figure size 720x576 with 1 Axes>"
            ]
          },
          "metadata": {
            "needs_background": "light"
          }
        }
      ]
    }
  ]
}