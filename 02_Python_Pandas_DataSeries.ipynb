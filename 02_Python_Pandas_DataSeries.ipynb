{
  "nbformat": 4,
  "nbformat_minor": 0,
  "metadata": {
    "kernelspec": {
      "display_name": "Python 3",
      "language": "python",
      "name": "python3"
    },
    "language_info": {
      "codemirror_mode": {
        "name": "ipython",
        "version": 3
      },
      "file_extension": ".py",
      "mimetype": "text/x-python",
      "name": "python",
      "nbconvert_exporter": "python",
      "pygments_lexer": "ipython3",
      "version": "3.7.4"
    },
    "colab": {
      "name": "02_Python-Pandas-DataSeries.ipynb",
      "provenance": [],
      "include_colab_link": true
    }
  },
  "cells": [
    {
      "cell_type": "markdown",
      "metadata": {
        "id": "view-in-github",
        "colab_type": "text"
      },
      "source": [
        "<a href=\"https://colab.research.google.com/github/veranika-izrailyan/python_practice/blob/main/02_Python_Pandas_DataSeries.ipynb\" target=\"_parent\"><img src=\"https://colab.research.google.com/assets/colab-badge.svg\" alt=\"Open In Colab\"/></a>"
      ]
    },
    {
      "cell_type": "code",
      "metadata": {
        "id": "I6kCxLK6P7Gk"
      },
      "source": [
        "import numpy as np\n",
        "import pandas as pd\n",
        "import datetime"
      ],
      "execution_count": 1,
      "outputs": []
    },
    {
      "cell_type": "markdown",
      "metadata": {
        "id": "DMRS5wzIP7Gs"
      },
      "source": [
        "## DataSeries"
      ]
    },
    {
      "cell_type": "code",
      "metadata": {
        "id": "UfzbmRHmP7Gu"
      },
      "source": [
        "my_readings = [3.12, 3.54, 3.24, 3.67, 3.56, 3.87]"
      ],
      "execution_count": 2,
      "outputs": []
    },
    {
      "cell_type": "markdown",
      "metadata": {
        "id": "Pt28NWdVP7Gw"
      },
      "source": [
        "We can create a DataSeries using any list or np.array,"
      ]
    },
    {
      "cell_type": "code",
      "metadata": {
        "colab": {
          "base_uri": "https://localhost:8080/"
        },
        "id": "Bi5gIu9eP7Gy",
        "outputId": "29fc05bf-3aba-4358-ed90-e57c5b8d657b"
      },
      "source": [
        "ds_readings = pd.Series(my_readings)\n",
        "ds_readings\n",
        "# We get a LOT of extra functionality that leverage NUMPY and other libs\n"
      ],
      "execution_count": 7,
      "outputs": [
        {
          "output_type": "execute_result",
          "data": {
            "text/plain": [
              "0    3.12\n",
              "1    3.54\n",
              "2    3.24\n",
              "3    3.67\n",
              "4    3.56\n",
              "5    3.87\n",
              "dtype: float64"
            ]
          },
          "metadata": {},
          "execution_count": 7
        }
      ]
    },
    {
      "cell_type": "code",
      "metadata": {
        "id": "eMktpxccP7G0",
        "outputId": "1b1b1794-ac6d-4791-ec12-814ce24e1b20",
        "colab": {
          "base_uri": "https://localhost:8080/"
        }
      },
      "source": [
        "## Output Index, aka primary key\n",
        "ds_readings.index"
      ],
      "execution_count": 8,
      "outputs": [
        {
          "output_type": "execute_result",
          "data": {
            "text/plain": [
              "RangeIndex(start=0, stop=6, step=1)"
            ]
          },
          "metadata": {},
          "execution_count": 8
        }
      ]
    },
    {
      "cell_type": "code",
      "metadata": {
        "id": "VZWAMeHqP7G2",
        "outputId": "7aa4c146-78a5-4360-9377-eafc58511a52",
        "colab": {
          "base_uri": "https://localhost:8080/"
        }
      },
      "source": [
        "## Output Value- for each key, these are the values\n",
        "ds_readings.values"
      ],
      "execution_count": 5,
      "outputs": [
        {
          "output_type": "execute_result",
          "data": {
            "text/plain": [
              "array([3.12, 3.54, 3.24, 3.67, 3.56, 3.87])"
            ]
          },
          "metadata": {},
          "execution_count": 5
        }
      ]
    },
    {
      "cell_type": "code",
      "metadata": {
        "id": "xYSk1QdHP7G4"
      },
      "source": [
        "# Select specific elements from the list-> exact same syntax is in NUMPY "
      ],
      "execution_count": 6,
      "outputs": []
    },
    {
      "cell_type": "code",
      "metadata": {
        "id": "c_7lv6LCP7G5",
        "outputId": "650abb60-786a-43b9-cefd-2c37221a0f59",
        "colab": {
          "base_uri": "https://localhost:8080/"
        }
      },
      "source": [
        "ds_readings[0]"
      ],
      "execution_count": 9,
      "outputs": [
        {
          "output_type": "execute_result",
          "data": {
            "text/plain": [
              "3.12"
            ]
          },
          "metadata": {},
          "execution_count": 9
        }
      ]
    },
    {
      "cell_type": "code",
      "metadata": {
        "id": "tXzM0lbDP7G6",
        "outputId": "ebf18183-d11a-48d8-b6d8-b97801d29394",
        "colab": {
          "base_uri": "https://localhost:8080/"
        }
      },
      "source": [
        "ds_readings[4]"
      ],
      "execution_count": 10,
      "outputs": [
        {
          "output_type": "execute_result",
          "data": {
            "text/plain": [
              "3.56"
            ]
          },
          "metadata": {},
          "execution_count": 10
        }
      ]
    },
    {
      "cell_type": "markdown",
      "metadata": {
        "id": "AmyBY5XQP7G7"
      },
      "source": [
        ""
      ]
    },
    {
      "cell_type": "code",
      "metadata": {
        "colab": {
          "base_uri": "https://localhost:8080/"
        },
        "id": "2Dj3MpeeP7G7",
        "outputId": "cfc85b9a-4366-4db0-d34b-46fe9ace083c"
      },
      "source": [
        "ds_readings[1:4] # our counting starts from 0\n",
        "# m:n -> from m to (n-1)\n",
        "# 1:4 -> from 1st to 3rd\n",
        "#  :n -> from beginning to n \n",
        "#. :8 -> from beginning till 7th\n",
        "#. :-5. -> negative indexing is counte from right. From beginning till 6th last element\n",
        "#   :-1 -> from beginning till end EXCEPT last element! \n",
        "#  9: -> from 9th row till the end \n",
        "#.  -3: -> from 3rd last element till the end \n"
      ],
      "execution_count": 11,
      "outputs": [
        {
          "output_type": "execute_result",
          "data": {
            "text/plain": [
              "1    3.54\n",
              "2    3.24\n",
              "3    3.67\n",
              "dtype: float64"
            ]
          },
          "metadata": {},
          "execution_count": 11
        }
      ]
    },
    {
      "cell_type": "markdown",
      "metadata": {
        "id": "8CcGdXkRP7G9"
      },
      "source": [
        "**Masking**"
      ]
    },
    {
      "cell_type": "code",
      "metadata": {
        "colab": {
          "base_uri": "https://localhost:8080/"
        },
        "id": "viJpSZnhP7G_",
        "outputId": "c1c27a7d-f2aa-4e8c-db19-25d816e150ff"
      },
      "source": [
        "## Note list input\n",
        "# [ [ ] ] -> double brackets do element selection\n",
        "# First and Third will be printed, others ignored\n",
        "myrandomcondition = [True, False, True, False, False, False]\n",
        "# in next example, instead of taking myrandomcondition randomly, we will replace\n",
        "# with condition that data > 3.5 \n",
        "ds_readings[myrandomcondition]\n",
        "# we need the locations of the values that FIT our condition \n",
        "# we pass those locations to dataframe and collect only specific values that\n",
        "# match the conditions! \n",
        "\n"
      ],
      "execution_count": 12,
      "outputs": [
        {
          "output_type": "execute_result",
          "data": {
            "text/plain": [
              "0    3.12\n",
              "2    3.24\n",
              "dtype: float64"
            ]
          },
          "metadata": {},
          "execution_count": 12
        }
      ]
    },
    {
      "cell_type": "markdown",
      "metadata": {
        "id": "k86ARWrgP7HA"
      },
      "source": [
        ""
      ]
    },
    {
      "cell_type": "code",
      "metadata": {
        "id": "5kDWvjeAP7HA",
        "outputId": "c1fb1a64-c14f-4cbd-d132-cb39345f3396",
        "colab": {
          "base_uri": "https://localhost:8080/"
        }
      },
      "source": [
        "ds_readings + 10\n",
        "# ANY math operation done to a series like this is performed \n",
        "# on EVERY element of that series\n"
      ],
      "execution_count": 13,
      "outputs": [
        {
          "output_type": "execute_result",
          "data": {
            "text/plain": [
              "0    13.12\n",
              "1    13.54\n",
              "2    13.24\n",
              "3    13.67\n",
              "4    13.56\n",
              "5    13.87\n",
              "dtype: float64"
            ]
          },
          "metadata": {},
          "execution_count": 13
        }
      ]
    },
    {
      "cell_type": "markdown",
      "metadata": {
        "id": "7qzQ2IfSP7HA"
      },
      "source": [
        ""
      ]
    },
    {
      "cell_type": "code",
      "metadata": {
        "colab": {
          "base_uri": "https://localhost:8080/"
        },
        "id": "E5hftU2OP7HB",
        "outputId": "cad93ad6-ce61-48e4-9a6f-bbe306e152e6"
      },
      "source": [
        "ds_readings > 3.5\n",
        "# to print only based on conditions\n",
        "# result is TRUE/FALSE -> wherever values are greater than 3.5, we get True, else False"
      ],
      "execution_count": 14,
      "outputs": [
        {
          "output_type": "execute_result",
          "data": {
            "text/plain": [
              "0    False\n",
              "1     True\n",
              "2    False\n",
              "3     True\n",
              "4     True\n",
              "5     True\n",
              "dtype: bool"
            ]
          },
          "metadata": {},
          "execution_count": 14
        }
      ]
    },
    {
      "cell_type": "markdown",
      "metadata": {
        "id": "SLE6F9lyP7HB"
      },
      "source": [
        "### Q: Why might the above be useful?"
      ]
    },
    {
      "cell_type": "markdown",
      "metadata": {
        "id": "oQTN7DYpP7HB"
      },
      "source": [
        "Output would be very useful when used as a mask for another series"
      ]
    },
    {
      "cell_type": "code",
      "metadata": {
        "colab": {
          "base_uri": "https://localhost:8080/"
        },
        "id": "LJ9pPsG_P7HC",
        "outputId": "eda7d21f-2280-42df-892c-219d1c3999fd"
      },
      "source": [
        "ds_readings[ds_readings > 3.5]"
      ],
      "execution_count": 15,
      "outputs": [
        {
          "output_type": "execute_result",
          "data": {
            "text/plain": [
              "1    3.54\n",
              "3    3.67\n",
              "4    3.56\n",
              "5    3.87\n",
              "dtype: float64"
            ]
          },
          "metadata": {},
          "execution_count": 15
        }
      ]
    },
    {
      "cell_type": "markdown",
      "metadata": {
        "id": "PkhYJ-pbP7HC"
      },
      "source": [
        "We can always combine filtering and operators"
      ]
    },
    {
      "cell_type": "code",
      "metadata": {
        "id": "WwviqDitP7HC",
        "outputId": "646b2b6d-e7a2-47a7-dbd6-b887046db770",
        "colab": {
          "base_uri": "https://localhost:8080/"
        }
      },
      "source": [
        "ds_readings[ds_readings > 3.5] * 2"
      ],
      "execution_count": 16,
      "outputs": [
        {
          "output_type": "execute_result",
          "data": {
            "text/plain": [
              "1    7.08\n",
              "3    7.34\n",
              "4    7.12\n",
              "5    7.74\n",
              "dtype: float64"
            ]
          },
          "metadata": {},
          "execution_count": 16
        }
      ]
    },
    {
      "cell_type": "markdown",
      "metadata": {
        "id": "LBjFpm8oP7HC"
      },
      "source": [
        "And to change the values, either all, or partial is easy,"
      ]
    },
    {
      "cell_type": "code",
      "metadata": {
        "id": "g_E9vueqP7HD"
      },
      "source": [
        "ds_readings[ds_readings > 3.5] = 0"
      ],
      "execution_count": 17,
      "outputs": []
    },
    {
      "cell_type": "code",
      "metadata": {
        "colab": {
          "base_uri": "https://localhost:8080/"
        },
        "id": "g9VNGz69T-Oy",
        "outputId": "f17f40c0-fe33-445e-9a30-dc4d3c703987"
      },
      "source": [
        "# Following is an example of missing value replacement \n",
        "randomset = np.array([5,4,3,np.NaN, -1, 24, 42, np.NaN])\n",
        "\n",
        "nullvaluelocations = np.isnan(randomset)\n",
        "okayvaluelocations = np.invert(nullvaluelocations)\n",
        "print(nullvaluelocations)\n",
        "print(okayvaluelocations)\n",
        "\n",
        "# replacing null values with Mean \n",
        "\n",
        "randomset[nullvaluelocations] = np.mean(randomset[okayvaluelocations])\n",
        "randomset"
      ],
      "execution_count": 21,
      "outputs": [
        {
          "output_type": "stream",
          "name": "stdout",
          "text": [
            "[False False False  True False False False  True]\n",
            "[ True  True  True False  True  True  True False]\n"
          ]
        },
        {
          "output_type": "execute_result",
          "data": {
            "text/plain": [
              "array([ 5.        ,  4.        ,  3.        , 12.83333333, -1.        ,\n",
              "       24.        , 42.        , 12.83333333])"
            ]
          },
          "metadata": {},
          "execution_count": 21
        }
      ]
    },
    {
      "cell_type": "code",
      "metadata": {
        "colab": {
          "base_uri": "https://localhost:8080/"
        },
        "id": "qnnIia81VOMv",
        "outputId": "e585daaa-428d-43a4-9a41-35e872a0506d"
      },
      "source": [
        "np.mean(randomset[okayvaluelocations])"
      ],
      "execution_count": 22,
      "outputs": [
        {
          "output_type": "execute_result",
          "data": {
            "text/plain": [
              "12.833333333333334"
            ]
          },
          "metadata": {},
          "execution_count": 22
        }
      ]
    }
  ]
}