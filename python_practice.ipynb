{
  "nbformat": 4,
  "nbformat_minor": 0,
  "metadata": {
    "colab": {
      "name": "python_practice.ipynb",
      "provenance": [],
      "collapsed_sections": [],
      "authorship_tag": "ABX9TyOK16awHbDg03v422tixvDr",
      "include_colab_link": true
    },
    "kernelspec": {
      "name": "python3",
      "display_name": "Python 3"
    },
    "language_info": {
      "name": "python"
    }
  },
  "cells": [
    {
      "cell_type": "markdown",
      "metadata": {
        "id": "view-in-github",
        "colab_type": "text"
      },
      "source": [
        "<a href=\"https://colab.research.google.com/github/veranika-izrailyan/python_practice/blob/main/python_practice.ipynb\" target=\"_parent\"><img src=\"https://colab.research.google.com/assets/colab-badge.svg\" alt=\"Open In Colab\"/></a>"
      ]
    },
    {
      "cell_type": "code",
      "metadata": {
        "colab": {
          "base_uri": "https://localhost:8080/"
        },
        "id": "bgjPlAzqQWhm",
        "outputId": "738418bc-a60b-4ba8-d9d7-1ed496b1f400"
      },
      "source": [
        "print(2 ** 2)"
      ],
      "execution_count": null,
      "outputs": [
        {
          "output_type": "stream",
          "name": "stdout",
          "text": [
            "4\n"
          ]
        }
      ]
    },
    {
      "cell_type": "code",
      "metadata": {
        "colab": {
          "base_uri": "https://localhost:8080/"
        },
        "id": "vBdniwh2Q1wA",
        "outputId": "c0c6e16a-74f0-4bad-f703-6dcb1c9ba8c2"
      },
      "source": [
        "!dir\n"
      ],
      "execution_count": null,
      "outputs": [
        {
          "output_type": "stream",
          "name": "stdout",
          "text": [
            "sample_data\n"
          ]
        }
      ]
    },
    {
      "cell_type": "markdown",
      "metadata": {
        "id": "laQcxVrZQ2f2"
      },
      "source": [
        ""
      ]
    },
    {
      "cell_type": "code",
      "metadata": {
        "colab": {
          "base_uri": "https://localhost:8080/"
        },
        "id": "ljv1du1ratRu",
        "outputId": "f8c6be12-5b2f-4308-a654-017d01b793fc"
      },
      "source": [
        "!pip install plotly pyspark"
      ],
      "execution_count": null,
      "outputs": [
        {
          "output_type": "stream",
          "name": "stdout",
          "text": [
            "Requirement already satisfied: plotly in /usr/local/lib/python3.7/dist-packages (4.4.1)\n",
            "Collecting pyspark\n",
            "  Downloading pyspark-3.2.0.tar.gz (281.3 MB)\n",
            "\u001b[K     |████████████████████████████████| 281.3 MB 39 kB/s \n",
            "\u001b[?25hRequirement already satisfied: retrying>=1.3.3 in /usr/local/lib/python3.7/dist-packages (from plotly) (1.3.3)\n",
            "Requirement already satisfied: six in /usr/local/lib/python3.7/dist-packages (from plotly) (1.15.0)\n",
            "Collecting py4j==0.10.9.2\n",
            "  Downloading py4j-0.10.9.2-py2.py3-none-any.whl (198 kB)\n",
            "\u001b[K     |████████████████████████████████| 198 kB 64.4 MB/s \n",
            "\u001b[?25hBuilding wheels for collected packages: pyspark\n",
            "  Building wheel for pyspark (setup.py) ... \u001b[?25l\u001b[?25hdone\n",
            "  Created wheel for pyspark: filename=pyspark-3.2.0-py2.py3-none-any.whl size=281805912 sha256=76a008c5f6f9ba70887207076224a2a2e7329fdd7399e61a43ff12762cc88990\n",
            "  Stored in directory: /root/.cache/pip/wheels/0b/de/d2/9be5d59d7331c6c2a7c1b6d1a4f463ce107332b1ecd4e80718\n",
            "Successfully built pyspark\n",
            "Installing collected packages: py4j, pyspark\n",
            "Successfully installed py4j-0.10.9.2 pyspark-3.2.0\n"
          ]
        }
      ]
    },
    {
      "cell_type": "code",
      "metadata": {
        "colab": {
          "base_uri": "https://localhost:8080/"
        },
        "id": "2MT8V_SQa-uo",
        "outputId": "12d2b696-f901-46c8-a8cf-1892141f9450"
      },
      "source": [
        "print(5)\n",
        "print(5.0)\n",
        "print(\"5\")\n",
        "print(True)\n",
        "print([\"Lovers\", \"Haters\", \"Needers\"])"
      ],
      "execution_count": null,
      "outputs": [
        {
          "output_type": "stream",
          "name": "stdout",
          "text": [
            "5\n",
            "5.0\n",
            "5\n",
            "True\n",
            "['Lovers', 'Haters', 'Needers']\n"
          ]
        }
      ]
    },
    {
      "cell_type": "code",
      "metadata": {
        "colab": {
          "base_uri": "https://localhost:8080/"
        },
        "id": "O0xcuIVnjFba",
        "outputId": "aade7072-89b6-4fc9-fffa-18b7eb6ee2b6"
      },
      "source": [
        "# Variables\n",
        "name = 'Veranika'\n",
        "age = 41\n",
        "height = 1.62\n",
        "hobbies = [\"AI\", \"Development\", \"Reading\"]\n",
        "is_alive = True\n",
        "\n",
        "fmesg = f\"{name} is {age} years old and {height*100}cm\"\n",
        "print(name, age, height)\n",
        "print(hobbies)\n",
        "print(is_alive)\n",
        "\n",
        "print(fmesg)"
      ],
      "execution_count": null,
      "outputs": [
        {
          "output_type": "stream",
          "name": "stdout",
          "text": [
            "Veranika 41 1.62\n",
            "['AI', 'Development', 'Reading']\n",
            "True\n",
            "Veranika is 41 years old and 162.0cm\n"
          ]
        }
      ]
    },
    {
      "cell_type": "code",
      "metadata": {
        "colab": {
          "base_uri": "https://localhost:8080/"
        },
        "id": "VdLfsRSqkLhF",
        "outputId": "a8479f76-a5d7-4034-cfaf-cf45d6c9ee2c"
      },
      "source": [
        "age +=1\n",
        "age"
      ],
      "execution_count": null,
      "outputs": [
        {
          "output_type": "execute_result",
          "data": {
            "text/plain": [
              "42"
            ]
          },
          "metadata": {},
          "execution_count": 8
        }
      ]
    },
    {
      "cell_type": "code",
      "metadata": {
        "colab": {
          "base_uri": "https://localhost:8080/"
        },
        "id": "pXKYm7DIkWq4",
        "outputId": "14489d51-d545-4592-daff-f55fab6c2e0f"
      },
      "source": [
        "print(\"Veranika\" + \"I\")\n",
        "print(2 ** 3)\n",
        "print(\"-\" * 3)"
      ],
      "execution_count": null,
      "outputs": [
        {
          "output_type": "stream",
          "name": "stdout",
          "text": [
            "VeranikaI\n",
            "8\n",
            "---\n"
          ]
        }
      ]
    },
    {
      "cell_type": "code",
      "metadata": {
        "colab": {
          "base_uri": "https://localhost:8080/"
        },
        "id": "N3-6Rz5lk6rA",
        "outputId": "939f9485-72f4-4aa5-da34-0c67936e69da"
      },
      "source": [
        "print(\"@\" in \"veranika.i@qa.com\")"
      ],
      "execution_count": null,
      "outputs": [
        {
          "output_type": "stream",
          "name": "stdout",
          "text": [
            "True\n"
          ]
        }
      ]
    },
    {
      "cell_type": "code",
      "metadata": {
        "colab": {
          "base_uri": "https://localhost:8080/"
        },
        "id": "ZJ41xsS5lHWw",
        "outputId": "8ec0e29c-5291-4de5-f05e-e66472f14882"
      },
      "source": [
        "print([\"Cake\", \"Cream\"] + [\"Flower\", \"Sugar\"])\n",
        "print(1.14 <= 2.15)"
      ],
      "execution_count": null,
      "outputs": [
        {
          "output_type": "stream",
          "name": "stdout",
          "text": [
            "['Cake', 'Cream', 'Flower', 'Sugar']\n",
            "True\n"
          ]
        }
      ]
    },
    {
      "cell_type": "code",
      "metadata": {
        "colab": {
          "base_uri": "https://localhost:8080/"
        },
        "id": "Nd08_ySHlpWL",
        "outputId": "f38c7e0c-3698-4016-a8ff-73a3589959c5"
      },
      "source": [
        "michael_bp = 175\n",
        "alice_bp = 175\n",
        "eve_bp = 140\n",
        "\n",
        "michael_bp == alice_bp"
      ],
      "execution_count": null,
      "outputs": [
        {
          "output_type": "execute_result",
          "data": {
            "text/plain": [
              "True"
            ]
          },
          "metadata": {},
          "execution_count": 19
        }
      ]
    },
    {
      "cell_type": "code",
      "metadata": {
        "colab": {
          "base_uri": "https://localhost:8080/"
        },
        "id": "egzH325amVDt",
        "outputId": "f5f7fcab-fe55-4fa0-b077-e5ba229f0793"
      },
      "source": [
        "michael_bp >= eve_bp"
      ],
      "execution_count": null,
      "outputs": [
        {
          "output_type": "execute_result",
          "data": {
            "text/plain": [
              "True"
            ]
          },
          "metadata": {},
          "execution_count": 20
        }
      ]
    },
    {
      "cell_type": "code",
      "metadata": {
        "colab": {
          "base_uri": "https://localhost:8080/"
        },
        "id": "SnBbtyUpmK0O",
        "outputId": "dda90e79-2988-4e1b-d8d7-7bed07ee7a8a"
      },
      "source": [
        "michael_bp != eve_bp"
      ],
      "execution_count": null,
      "outputs": [
        {
          "output_type": "execute_result",
          "data": {
            "text/plain": [
              "True"
            ]
          },
          "metadata": {},
          "execution_count": 18
        }
      ]
    },
    {
      "cell_type": "code",
      "metadata": {
        "colab": {
          "base_uri": "https://localhost:8080/"
        },
        "id": "4XGXorhllXxM",
        "outputId": "4b02769b-95c8-4919-dcb1-e6a82a0a65ab"
      },
      "source": [
        "michael_bp != alice_bp"
      ],
      "execution_count": null,
      "outputs": [
        {
          "output_type": "execute_result",
          "data": {
            "text/plain": [
              "False"
            ]
          },
          "metadata": {},
          "execution_count": 17
        }
      ]
    },
    {
      "cell_type": "code",
      "metadata": {
        "colab": {
          "base_uri": "https://localhost:8080/"
        },
        "id": "dJwZ4SC8mad5",
        "outputId": "9d05aaee-fe96-4897-fca3-a23f69481877"
      },
      "source": [
        "# Logical comparisons\n",
        "message = \"Warning: Too High!\"\n",
        "(\"Warning\" in message) and (michael_bp >= eve_bp)"
      ],
      "execution_count": null,
      "outputs": [
        {
          "output_type": "execute_result",
          "data": {
            "text/plain": [
              "True"
            ]
          },
          "metadata": {},
          "execution_count": 21
        }
      ]
    },
    {
      "cell_type": "code",
      "metadata": {
        "colab": {
          "base_uri": "https://localhost:8080/"
        },
        "id": "Rju0jLXTnZt2",
        "outputId": "cdfe7602-6e0d-4cbd-bd51-eb47f7bb8d09"
      },
      "source": [
        "safe_max = 150\n",
        "save_min = 70\n",
        "\n",
        "(eve_bp < safe_max) or (michael_bp < safe_max)"
      ],
      "execution_count": null,
      "outputs": [
        {
          "output_type": "execute_result",
          "data": {
            "text/plain": [
              "True"
            ]
          },
          "metadata": {},
          "execution_count": 24
        }
      ]
    },
    {
      "cell_type": "code",
      "metadata": {
        "colab": {
          "base_uri": "https://localhost:8080/"
        },
        "id": "iBNwaGgbn7ig",
        "outputId": "266be3c5-c66a-43f8-d7ca-f7e7d7cf2c9b"
      },
      "source": [
        "not (\"Warning\" in message)"
      ],
      "execution_count": null,
      "outputs": [
        {
          "output_type": "execute_result",
          "data": {
            "text/plain": [
              "False"
            ]
          },
          "metadata": {},
          "execution_count": 25
        }
      ]
    },
    {
      "cell_type": "code",
      "metadata": {
        "colab": {
          "base_uri": "https://localhost:8080/"
        },
        "id": "mvvXl0sJoBDS",
        "outputId": "f159b8cd-2f64-4089-b031-70fa338bcae2"
      },
      "source": [
        "\"Warning\" not in message"
      ],
      "execution_count": null,
      "outputs": [
        {
          "output_type": "execute_result",
          "data": {
            "text/plain": [
              "False"
            ]
          },
          "metadata": {},
          "execution_count": 26
        }
      ]
    },
    {
      "cell_type": "code",
      "metadata": {
        "id": "1zmfs4dpoJ7K",
        "colab": {
          "base_uri": "https://localhost:8080/"
        },
        "outputId": "9ec50f0a-beb5-40f9-b34b-2c7f62fa1385"
      },
      "source": [
        "# conditions\n",
        "if (\"Warning\" in message) and (michael_bp > safe_max):\n",
        "    print(\"GO TO HOSPITAL\")\n",
        "else:\n",
        "    print(\"STAY AT HOME\")"
      ],
      "execution_count": 28,
      "outputs": [
        {
          "output_type": "stream",
          "name": "stdout",
          "text": [
            "STAY AT HOME\n"
          ]
        }
      ]
    },
    {
      "cell_type": "code",
      "metadata": {
        "colab": {
          "base_uri": "https://localhost:8080/"
        },
        "id": "CQ_7kVoIpu4a",
        "outputId": "f4de74cb-d3ee-4430-e1f2-c682fa1903b5"
      },
      "source": [
        "name = \"Vera\"\n",
        "print(name)\n",
        "print(id(name))\n",
        "print(len(name))\n",
        "print(type(name))"
      ],
      "execution_count": 29,
      "outputs": [
        {
          "output_type": "stream",
          "name": "stdout",
          "text": [
            "Vera\n",
            "140018679230768\n",
            "4\n",
            "<class 'str'>\n"
          ]
        }
      ]
    },
    {
      "cell_type": "code",
      "metadata": {
        "colab": {
          "base_uri": "https://localhost:8080/"
        },
        "id": "QfS18IFfqJ7Q",
        "outputId": "607ced19-3705-43f2-b989-cc669a9d9235"
      },
      "source": [
        "print(name.lower())\n",
        "print(name.upper())\n",
        "print(name.startswith(\"V\"))\n",
        "print(name.endswith(\"K\"))"
      ],
      "execution_count": 30,
      "outputs": [
        {
          "output_type": "stream",
          "name": "stdout",
          "text": [
            "vera\n",
            "VERA\n",
            "True\n",
            "False\n"
          ]
        }
      ]
    },
    {
      "cell_type": "code",
      "metadata": {
        "colab": {
          "base_uri": "https://localhost:8080/",
          "height": 35
        },
        "id": "TA0rnundqieg",
        "outputId": "a924522c-5938-4b5d-ea3e-02edd658fbe1"
      },
      "source": [
        "dir(name)[-5]"
      ],
      "execution_count": 31,
      "outputs": [
        {
          "output_type": "execute_result",
          "data": {
            "application/vnd.google.colaboratory.intrinsic+json": {
              "type": "string"
            },
            "text/plain": [
              "'swapcase'"
            ]
          },
          "metadata": {},
          "execution_count": 31
        }
      ]
    },
    {
      "cell_type": "code",
      "metadata": {
        "colab": {
          "base_uri": "https://localhost:8080/"
        },
        "id": "BzOt0R8Sq56A",
        "outputId": "2b19d370-0ed2-4773-acdd-af96f2ec8fa7"
      },
      "source": [
        "# Ex 1\n",
        "name1 = \"SomeName\"\n",
        "age1 = 30\n",
        "location = \"London\"\n",
        "is_working = True\n",
        "\n",
        "desc = f\"{name1} is {age1} and lives in {location} and it is {is_working}, that {name1} is working\"\n",
        "print(desc)"
      ],
      "execution_count": 34,
      "outputs": [
        {
          "output_type": "stream",
          "name": "stdout",
          "text": [
            "SomeName is 30 and lives in London and it is True, that SomeName is working\n"
          ]
        }
      ]
    },
    {
      "cell_type": "code",
      "metadata": {
        "colab": {
          "base_uri": "https://localhost:8080/"
        },
        "id": "2U6bUqcOr76U",
        "outputId": "ea495fd9-82c8-4539-f866-9c765685465b"
      },
      "source": [
        "print(location.upper())\n",
        "print(location.lower())\n",
        "print(age1 > 18)\n",
        "print(\"-\"*10)"
      ],
      "execution_count": 35,
      "outputs": [
        {
          "output_type": "stream",
          "name": "stdout",
          "text": [
            "LONDON\n",
            "london\n",
            "True\n",
            "----------\n"
          ]
        }
      ]
    },
    {
      "cell_type": "code",
      "metadata": {
        "colab": {
          "base_uri": "https://localhost:8080/"
        },
        "id": "DUlGY4uKtfpL",
        "outputId": "54ff0cbb-ec33-410a-ea21-3f602b489cb9"
      },
      "source": [
        "def error(pred, obv):\n",
        "    return (pred - obv) ** 2\n",
        "\n",
        "error(3, 3.3)"
      ],
      "execution_count": 36,
      "outputs": [
        {
          "output_type": "execute_result",
          "data": {
            "text/plain": [
              "0.0899999999999999"
            ]
          },
          "metadata": {},
          "execution_count": 36
        }
      ]
    },
    {
      "cell_type": "code",
      "metadata": {
        "id": "mwDbUOhKtgbP"
      },
      "source": [
        "def predict(age, height, parameters=(0.5, 0.5, 0)):\n",
        "    \"\"\"\n",
        "    Predict a weight (kg) from an age (yr), height (cm) and\n",
        "        parameters :\n",
        "            (age importance, height importance, base weight)\n",
        "    \"\"\"\n",
        "    # reset the scales so each goes from 0 to 1\n",
        "    age, height = age/100, height/200\n",
        "    \n",
        "    # extract the parameters for each variable\n",
        "    a, h, w = parameters\n",
        "    \n",
        "    # predict a weight\n",
        "    weight = 100 * (a * age + h * height + w)\n",
        "    \n",
        "    return round(weight, 2)"
      ],
      "execution_count": 41,
      "outputs": []
    },
    {
      "cell_type": "code",
      "metadata": {
        "colab": {
          "base_uri": "https://localhost:8080/"
        },
        "id": "5_g1Yeggt5My",
        "outputId": "2f979031-0174-464f-ce31-0f73d9d46976"
      },
      "source": [
        "help(predict)"
      ],
      "execution_count": 42,
      "outputs": [
        {
          "output_type": "stream",
          "name": "stdout",
          "text": [
            "Help on function predict in module __main__:\n",
            "\n",
            "predict(age, height, parameters=(0.5, 0.5, 0))\n",
            "    Predict a weight (kg) from an age (yr), height (cm) and\n",
            "        parameters :\n",
            "            (age importance, height importance, base weight)\n",
            "\n"
          ]
        }
      ]
    },
    {
      "cell_type": "code",
      "metadata": {
        "colab": {
          "base_uri": "https://localhost:8080/"
        },
        "id": "Qg4pNK8At-Nq",
        "outputId": "e87e0e3b-c806-4ac3-de33-c1e217fbbb35"
      },
      "source": [
        "predict(10, 150, (0.6, 0.4, 0.2))"
      ],
      "execution_count": 43,
      "outputs": [
        {
          "output_type": "execute_result",
          "data": {
            "text/plain": [
              "56.0"
            ]
          },
          "metadata": {},
          "execution_count": 43
        }
      ]
    },
    {
      "cell_type": "code",
      "metadata": {
        "colab": {
          "base_uri": "https://localhost:8080/"
        },
        "id": "xf6x8wNAunGm",
        "outputId": "8f9f3ea1-bc78-43dd-90f7-c7fbca8a00c5"
      },
      "source": [
        "predict(10, 150)\n"
      ],
      "execution_count": 44,
      "outputs": [
        {
          "output_type": "execute_result",
          "data": {
            "text/plain": [
              "42.5"
            ]
          },
          "metadata": {},
          "execution_count": 44
        }
      ]
    },
    {
      "cell_type": "code",
      "metadata": {
        "colab": {
          "base_uri": "https://localhost:8080/"
        },
        "id": "8j8TT7lRurJ7",
        "outputId": "5a5d5019-bd18-4ec4-8ee9-bfb3aaf3c3e9"
      },
      "source": [
        "predict(age=10, height=150)"
      ],
      "execution_count": 45,
      "outputs": [
        {
          "output_type": "execute_result",
          "data": {
            "text/plain": [
              "42.5"
            ]
          },
          "metadata": {},
          "execution_count": 45
        }
      ]
    },
    {
      "cell_type": "code",
      "metadata": {
        "colab": {
          "base_uri": "https://localhost:8080/"
        },
        "id": "KBl9rKnhuut_",
        "outputId": "fddad718-532a-407c-e6dc-cd418962ea1b"
      },
      "source": [
        "# functions = procedures\n",
        "# can also not return anything\n",
        "\n",
        "def show_results(results):\n",
        "    print(\"-\" * 10)\n",
        "    print(results)\n",
        "    print(\"-\" * 10)\n",
        "    \n",
        "show_results([12, 12, 15])   # writes to screen, but has no return value\n",
        "\n",
        "def distance(x1, x2):\n",
        "    return (x2 - x1) ** 2   # euclidean distance, aka. L2 norm\n",
        "    \n",
        "\n",
        "dist = distance(10, 12)\n",
        "print(dist * 1.1)  # calculated value can be stored in variable\n",
        "\n",
        "\n",
        "rtn = show_results([10, 12])\n",
        "\n",
        "print(type(rtn))\n",
        "print(rtn) # nothing is stored here, no return value"
      ],
      "execution_count": 46,
      "outputs": [
        {
          "output_type": "stream",
          "name": "stdout",
          "text": [
            "----------\n",
            "[12, 12, 15]\n",
            "----------\n",
            "4.4\n",
            "----------\n",
            "[10, 12]\n",
            "----------\n",
            "<class 'NoneType'>\n",
            "None\n"
          ]
        }
      ]
    },
    {
      "cell_type": "code",
      "metadata": {
        "colab": {
          "base_uri": "https://localhost:8080/"
        },
        "id": "Z9cX8CWvvkwo",
        "outputId": "7e7c2207-374a-4bb6-b2fb-12da02b127ca"
      },
      "source": [
        "def mean(a,b,c):\n",
        "  return (a+b+c)/3\n",
        "\n",
        "print(mean(2, 5, 10))"
      ],
      "execution_count": 47,
      "outputs": [
        {
          "output_type": "stream",
          "name": "stdout",
          "text": [
            "5.666666666666667\n"
          ]
        }
      ]
    },
    {
      "cell_type": "code",
      "metadata": {
        "colab": {
          "base_uri": "https://localhost:8080/"
        },
        "id": "5Wsnh_7IwhVy",
        "outputId": "919fdede-4bf7-430f-c780-91c064f09172"
      },
      "source": [
        "def cube(x):\n",
        "    return x ** 3\n",
        "\n",
        "def is_adult(age):\n",
        "    return age >= 18\n",
        "\n",
        "\n",
        "def show(m, c, a):\n",
        "    print(\"mean:\", m)\n",
        "    print(\"cube:\", c)\n",
        "    print(\"age:\", a)\n",
        "    \n",
        "mean_ages = mean(18,18,20)\n",
        "two_late = cube(2)\n",
        "teen = is_adult(15)\n",
        "\n",
        "show(mean_ages, two_late, teen)"
      ],
      "execution_count": 48,
      "outputs": [
        {
          "output_type": "stream",
          "name": "stdout",
          "text": [
            "mean: 18.666666666666668\n",
            "cube: 8\n",
            "age: False\n"
          ]
        }
      ]
    },
    {
      "cell_type": "code",
      "metadata": {
        "colab": {
          "base_uri": "https://localhost:8080/"
        },
        "id": "B82Fgft9xXYj",
        "outputId": "dafee09c-f685-465c-b97a-bcbc2efb5aff"
      },
      "source": [
        "# Data Structures\n",
        "# strings\n",
        "\n",
        "quote = \"Be the change you wish to see in the world!\"\n",
        "\n",
        "print( quote[0] )   # first\n",
        "print( quote[1] )   # second\n",
        "print( quote[-2] )  # second from last\n",
        "print( quote[-1] )  # last"
      ],
      "execution_count": 1,
      "outputs": [
        {
          "output_type": "stream",
          "name": "stdout",
          "text": [
            "B\n",
            "e\n",
            "d\n",
            "!\n"
          ]
        }
      ]
    },
    {
      "cell_type": "code",
      "metadata": {
        "colab": {
          "base_uri": "https://localhost:8080/"
        },
        "id": "po2sC3gpEVFq",
        "outputId": "eb5e5f9e-9550-4ff6-dfdc-65bd045fb133"
      },
      "source": [
        "print( quote[0:-6]  + \"bed\" )"
      ],
      "execution_count": 3,
      "outputs": [
        {
          "output_type": "stream",
          "name": "stdout",
          "text": [
            "Be the change you wish to see in the bed\n"
          ]
        }
      ]
    },
    {
      "cell_type": "code",
      "metadata": {
        "colab": {
          "base_uri": "https://localhost:8080/"
        },
        "id": "Z-nVoS4EEcT7",
        "outputId": "c3215c0f-b429-4958-9dc9-95f8cb3d36fd"
      },
      "source": [
        "print(quote[:2])\n",
        "print(quote[-6:])"
      ],
      "execution_count": 4,
      "outputs": [
        {
          "output_type": "stream",
          "name": "stdout",
          "text": [
            "Be\n",
            "world!\n"
          ]
        }
      ]
    },
    {
      "cell_type": "code",
      "metadata": {
        "colab": {
          "base_uri": "https://localhost:8080/"
        },
        "id": "eIpwnygNEmPj",
        "outputId": "94a7bb5d-036a-469d-f2c4-96028e6bf6e6"
      },
      "source": [
        "point = (10, 20, 30)\n",
        "\n",
        "print( point[0] )\n",
        "print( point[1] )\n",
        "print( point[-1] )\n",
        "\n",
        "print( point[0:2] )"
      ],
      "execution_count": 5,
      "outputs": [
        {
          "output_type": "stream",
          "name": "stdout",
          "text": [
            "10\n",
            "20\n",
            "30\n",
            "(10, 20)\n"
          ]
        }
      ]
    },
    {
      "cell_type": "code",
      "metadata": {
        "colab": {
          "base_uri": "https://localhost:8080/"
        },
        "id": "SMZ6JXD3E-5L",
        "outputId": "5a8cbff3-d299-4905-8ade-e58dca45d012"
      },
      "source": [
        "address = \"Old St\", \"London\"\n",
        "print(address)"
      ],
      "execution_count": 6,
      "outputs": [
        {
          "output_type": "stream",
          "name": "stdout",
          "text": [
            "('Old St', 'London')\n"
          ]
        }
      ]
    },
    {
      "cell_type": "code",
      "metadata": {
        "colab": {
          "base_uri": "https://localhost:8080/"
        },
        "id": "QfuW4MZ6FFzC",
        "outputId": "b1ea16a6-f5ef-4a53-af48-5f382b94594c"
      },
      "source": [
        "x = [300, 1000, \"London\", (\"Old Street\", \"London\")]\n",
        "\n",
        "print(x)\n",
        "print(len(x))\n",
        "\n",
        "print(x[-1])\n",
        "print(len(x[-1]))\n",
        "\n",
        "x.append(1)\n",
        "x"
      ],
      "execution_count": 8,
      "outputs": [
        {
          "output_type": "stream",
          "name": "stdout",
          "text": [
            "[300, 1000, 'London', ('Old Street', 'London')]\n",
            "4\n",
            "('Old Street', 'London')\n",
            "2\n"
          ]
        },
        {
          "output_type": "execute_result",
          "data": {
            "text/plain": [
              "[300, 1000, 'London', ('Old Street', 'London'), 1]"
            ]
          },
          "metadata": {},
          "execution_count": 8
        }
      ]
    },
    {
      "cell_type": "code",
      "metadata": {
        "colab": {
          "base_uri": "https://localhost:8080/"
        },
        "id": "6914PlFEFv0S",
        "outputId": "121f613d-37fc-4b34-aedd-fe313b4a444d"
      },
      "source": [
        "x.pop()"
      ],
      "execution_count": 9,
      "outputs": [
        {
          "output_type": "execute_result",
          "data": {
            "text/plain": [
              "1"
            ]
          },
          "metadata": {},
          "execution_count": 9
        }
      ]
    },
    {
      "cell_type": "code",
      "metadata": {
        "colab": {
          "base_uri": "https://localhost:8080/"
        },
        "id": "SQWBN2SwGE6p",
        "outputId": "55525007-0c17-4875-d714-9b7715b54d02"
      },
      "source": [
        "def error(y_pred, y, i):\n",
        "    return (y_pred - y[i]) ** 2\n",
        "    \n",
        "y = [2, 3, 5, 8]\n",
        "guess = 2.2\n",
        "\n",
        "error(guess, y, 1)\n"
      ],
      "execution_count": 10,
      "outputs": [
        {
          "output_type": "execute_result",
          "data": {
            "text/plain": [
              "0.6399999999999997"
            ]
          },
          "metadata": {},
          "execution_count": 10
        }
      ]
    },
    {
      "cell_type": "code",
      "metadata": {
        "colab": {
          "base_uri": "https://localhost:8080/"
        },
        "id": "_mjh-5exIDC9",
        "outputId": "851c72ed-ec56-4cc8-f0fa-a54a4fce906b"
      },
      "source": [
        "# Dictionaries\n",
        "user = {\n",
        "    \"name\": \"Vera\",\n",
        "    \"age\": 41,\n",
        "    \"location\": \"UK\"\n",
        "}\n",
        "\n",
        "print(user[\"name\"])\n",
        "print(user[\"age\"])\n",
        "print(user[\"location\"])"
      ],
      "execution_count": 13,
      "outputs": [
        {
          "output_type": "stream",
          "name": "stdout",
          "text": [
            "Vera\n",
            "41\n",
            "UK\n"
          ]
        }
      ]
    },
    {
      "cell_type": "code",
      "metadata": {
        "colab": {
          "base_uri": "https://localhost:8080/"
        },
        "id": "YCU-qYNsIf5T",
        "outputId": "5344cedb-2968-4c12-e05a-fb3d52264e93"
      },
      "source": [
        "users = {\n",
        "    \"age-at-purchase\": [18, 60],\n",
        "    \"days-from-purcahse\": [13, 300]\n",
        "}\n",
        "\n",
        "ages = users['age-at-purchase']\n",
        "\n",
        "sum(ages)/len(ages)"
      ],
      "execution_count": 14,
      "outputs": [
        {
          "output_type": "execute_result",
          "data": {
            "text/plain": [
              "39.0"
            ]
          },
          "metadata": {},
          "execution_count": 14
        }
      ]
    },
    {
      "cell_type": "code",
      "metadata": {
        "colab": {
          "base_uri": "https://localhost:8080/"
        },
        "id": "EvkG64k4JqHc",
        "outputId": "89b4780b-470f-499e-a344-e6c3be2aa63b"
      },
      "source": [
        "# Control flow\n",
        "user_age = 18\n",
        "\n",
        "if user_age > 65:                    \n",
        "    print(\"See Retirement Plans\")     \n",
        "elif user_age > 21:                   \n",
        "    print(\"See Vocation Plans\")\n",
        "elif user_age > 13:\n",
        "    print(\"See Education Plans\")\n",
        "else:\n",
        "    print(\"See your mother!\")\n"
      ],
      "execution_count": 15,
      "outputs": [
        {
          "output_type": "stream",
          "name": "stdout",
          "text": [
            "See Education Plans\n"
          ]
        }
      ]
    },
    {
      "cell_type": "code",
      "metadata": {
        "colab": {
          "base_uri": "https://localhost:8080/"
        },
        "id": "9E7Y-sNYKm5u",
        "outputId": "c8211911-1a97-40ef-b34a-10c51897f34a"
      },
      "source": [
        "ratings = [5,5,6,7,8,1]\n",
        "\n",
        "while len(ratings) > 0:\n",
        "    print(ratings.pop())"
      ],
      "execution_count": 16,
      "outputs": [
        {
          "output_type": "stream",
          "name": "stdout",
          "text": [
            "1\n",
            "8\n",
            "7\n",
            "6\n",
            "5\n",
            "5\n"
          ]
        }
      ]
    },
    {
      "cell_type": "code",
      "metadata": {
        "colab": {
          "base_uri": "https://localhost:8080/"
        },
        "id": "xfGbBp4JK7B8",
        "outputId": "a69760f5-a135-4437-ba26-12d1001c2c40"
      },
      "source": [
        "ratings"
      ],
      "execution_count": 17,
      "outputs": [
        {
          "output_type": "execute_result",
          "data": {
            "text/plain": [
              "[]"
            ]
          },
          "metadata": {},
          "execution_count": 17
        }
      ]
    },
    {
      "cell_type": "code",
      "metadata": {
        "colab": {
          "base_uri": "https://localhost:8080/"
        },
        "id": "GjgMY9XmLDqs",
        "outputId": "6059fae4-9b7c-4f07-9eb4-43c6a1b2a0ea"
      },
      "source": [
        "ratings = [5,5,6,7,8,1]\n",
        "\n",
        "for element in ratings:     \n",
        "    print(element)\n",
        "    \n",
        "ratings"
      ],
      "execution_count": 18,
      "outputs": [
        {
          "output_type": "stream",
          "name": "stdout",
          "text": [
            "5\n",
            "5\n",
            "6\n",
            "7\n",
            "8\n",
            "1\n"
          ]
        },
        {
          "output_type": "execute_result",
          "data": {
            "text/plain": [
              "[5, 5, 6, 7, 8, 1]"
            ]
          },
          "metadata": {},
          "execution_count": 18
        }
      ]
    },
    {
      "cell_type": "code",
      "metadata": {
        "colab": {
          "base_uri": "https://localhost:8080/"
        },
        "id": "MVDXeVDfLM77",
        "outputId": "750199db-8421-4625-c24d-f725c3e9cf46"
      },
      "source": [
        "feeling = input(\"How do you feel? \")"
      ],
      "execution_count": 19,
      "outputs": [
        {
          "name": "stdout",
          "output_type": "stream",
          "text": [
            "How do you feel? Happy!\n"
          ]
        }
      ]
    },
    {
      "cell_type": "code",
      "metadata": {
        "colab": {
          "base_uri": "https://localhost:8080/"
        },
        "id": "jxbQmUg-MEdC",
        "outputId": "e47425d7-83ec-4d0d-9d11-bf6c632a2b54"
      },
      "source": [
        "if (\"Sad\" in feeling) or (feeling.endswith(\"!?\")):\n",
        "    print(\"Try some exercise!\")\n",
        "elif (\"Happy\" in feeling) or (feeling.endswith(\"!\")):\n",
        "    print(\"Try relaxing\")\n",
        "else:\n",
        "    print(\"Not possible to offer advice\")"
      ],
      "execution_count": 20,
      "outputs": [
        {
          "output_type": "stream",
          "name": "stdout",
          "text": [
            "Try relaxing\n"
          ]
        }
      ]
    },
    {
      "cell_type": "code",
      "metadata": {
        "colab": {
          "base_uri": "https://localhost:8080/"
        },
        "id": "DHGS1iddMTD4",
        "outputId": "5cf3cd67-3a4c-4e01-d4cb-51ff6bdb8b5a"
      },
      "source": [
        "hrs = [60, 70, 80]\n",
        "bps = [100, 200, 250]\n",
        "\n",
        "bundled = list(zip(hrs, bps))\n",
        "bundled"
      ],
      "execution_count": 21,
      "outputs": [
        {
          "output_type": "execute_result",
          "data": {
            "text/plain": [
              "[(60, 100), (70, 200), (80, 250)]"
            ]
          },
          "metadata": {},
          "execution_count": 21
        }
      ]
    },
    {
      "cell_type": "code",
      "metadata": {
        "colab": {
          "base_uri": "https://localhost:8080/"
        },
        "id": "hYQ1mDCHMugV",
        "outputId": "da6375cd-b6a8-4e51-d2aa-585d78343eec"
      },
      "source": [
        "for hr, bp in zip(hrs, bps):\n",
        "    print(hr, bp)"
      ],
      "execution_count": 22,
      "outputs": [
        {
          "output_type": "stream",
          "name": "stdout",
          "text": [
            "60 100\n",
            "70 200\n",
            "80 250\n"
          ]
        }
      ]
    },
    {
      "cell_type": "code",
      "metadata": {
        "colab": {
          "base_uri": "https://localhost:8080/"
        },
        "id": "1dX1YTq4M-O-",
        "outputId": "20becb4e-e0cd-493b-c95a-84d8efe2c275"
      },
      "source": [
        "for hr, bp in zip(hrs, bps):\n",
        "    print(\"We measured: \", hr, \"bpm\")\n",
        "    print(\"We measured: \", bp, \"mmHg\")\n",
        "    \n",
        "    if (hr > 200) or (bp > 200):\n",
        "        print(\"WARNING\")\n",
        "    else:\n",
        "        print(\"OK\")\n",
        "        \n",
        "    print()"
      ],
      "execution_count": 23,
      "outputs": [
        {
          "output_type": "stream",
          "name": "stdout",
          "text": [
            "We measured:  60 bpm\n",
            "We measured:  100 mmHg\n",
            "OK\n",
            "\n",
            "We measured:  70 bpm\n",
            "We measured:  200 mmHg\n",
            "OK\n",
            "\n",
            "We measured:  80 bpm\n",
            "We measured:  250 mmHg\n",
            "WARNING\n",
            "\n"
          ]
        }
      ]
    },
    {
      "cell_type": "code",
      "metadata": {
        "colab": {
          "base_uri": "https://localhost:8080/"
        },
        "id": "0fUlEJVmNNP0",
        "outputId": "d1e9aca8-e8a7-43ba-9769-a4456ad2ec31"
      },
      "source": [
        "# Looping through the range of numbers\n",
        "\n",
        "list(range(0, 100, 20))"
      ],
      "execution_count": 24,
      "outputs": [
        {
          "output_type": "execute_result",
          "data": {
            "text/plain": [
              "[0, 20, 40, 60, 80]"
            ]
          },
          "metadata": {},
          "execution_count": 24
        }
      ]
    },
    {
      "cell_type": "code",
      "metadata": {
        "colab": {
          "base_uri": "https://localhost:8080/"
        },
        "id": "Mq1Y0jQyNhg9",
        "outputId": "ea4ef559-5867-4e3d-e68f-303ca24f0fb3"
      },
      "source": [
        "for i in range(0, 100, 20):\n",
        "    print(i)"
      ],
      "execution_count": 25,
      "outputs": [
        {
          "output_type": "stream",
          "name": "stdout",
          "text": [
            "0\n",
            "20\n",
            "40\n",
            "60\n",
            "80\n"
          ]
        }
      ]
    },
    {
      "cell_type": "code",
      "metadata": {
        "colab": {
          "base_uri": "https://localhost:8080/"
        },
        "id": "AcxJCE-7Nmsg",
        "outputId": "440f54fc-89d1-4787-8014-459ad5b04309"
      },
      "source": [
        "predicted_hr = []\n",
        "\n",
        "for hr in range(60, 180, 10):\n",
        "    predicted_hr.append(0.9 * hr + 1)\n",
        "    \n",
        "predicted_hr"
      ],
      "execution_count": 26,
      "outputs": [
        {
          "output_type": "execute_result",
          "data": {
            "text/plain": [
              "[55.0, 64.0, 73.0, 82.0, 91.0, 100.0, 109.0, 118.0, 127.0, 136.0, 145.0, 154.0]"
            ]
          },
          "metadata": {},
          "execution_count": 26
        }
      ]
    },
    {
      "cell_type": "code",
      "metadata": {
        "colab": {
          "base_uri": "https://localhost:8080/"
        },
        "id": "Z6RE_oy8OAuE",
        "outputId": "40f215af-ffe9-4698-dc95-e18a93ce7da4"
      },
      "source": [
        "# Looping with index\n",
        "\n",
        "hr_readings = [70,50,60,80]\n",
        "for hr in hr_readings:\n",
        "    print(hr)"
      ],
      "execution_count": 27,
      "outputs": [
        {
          "output_type": "stream",
          "name": "stdout",
          "text": [
            "70\n",
            "50\n",
            "60\n",
            "80\n"
          ]
        }
      ]
    },
    {
      "cell_type": "code",
      "metadata": {
        "colab": {
          "base_uri": "https://localhost:8080/"
        },
        "id": "VM71B2sVOSBL",
        "outputId": "6a5465d2-b54a-45b8-fc92-4f2cbf551305"
      },
      "source": [
        "for i, hr in enumerate(hr_readings):\n",
        "    print(f\"Reading {i + 1} was {hr} bpm\")"
      ],
      "execution_count": 28,
      "outputs": [
        {
          "output_type": "stream",
          "name": "stdout",
          "text": [
            "Reading 1 was 70 bpm\n",
            "Reading 2 was 50 bpm\n",
            "Reading 3 was 60 bpm\n",
            "Reading 4 was 80 bpm\n"
          ]
        }
      ]
    },
    {
      "cell_type": "code",
      "metadata": {
        "id": "3j0dGVTTOkyt"
      },
      "source": [
        ""
      ],
      "execution_count": null,
      "outputs": []
    }
  ]
}